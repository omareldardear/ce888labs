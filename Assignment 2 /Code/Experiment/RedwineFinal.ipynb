{
 "cells": [
  {
   "cell_type": "code",
   "execution_count": 0,
   "metadata": {
    "colab": {},
    "colab_type": "code",
    "id": "c5xWe53PZcXs"
   },
   "outputs": [],
   "source": [
    "import numpy as np\n",
    "import pandas as pd\n",
    "import matplotlib.pyplot as plt\n",
    "import seaborn as sns\n",
    "\n",
    "import warnings\n",
    "warnings.filterwarnings('ignore')"
   ]
  },
  {
   "cell_type": "markdown",
   "metadata": {
    "colab_type": "text",
    "id": "sxXiiB6vZnld"
   },
   "source": [
    "# Reading the Data"
   ]
  },
  {
   "cell_type": "code",
   "execution_count": 2,
   "metadata": {
    "colab": {
     "base_uri": "https://localhost:8080/",
     "height": 323
    },
    "colab_type": "code",
    "id": "WTZNGNCyZino",
    "outputId": "1b16cccf-494c-480f-d98e-2e028d624039"
   },
   "outputs": [
    {
     "name": "stdout",
     "output_type": "stream",
     "text": [
      "The Shape of The Data  (1599, 12)\n",
      "<class 'pandas.core.frame.DataFrame'>\n",
      "RangeIndex: 1599 entries, 0 to 1598\n",
      "Data columns (total 12 columns):\n",
      "fixed acidity           1599 non-null float64\n",
      "volatile acidity        1599 non-null float64\n",
      "citric acid             1599 non-null float64\n",
      "residual sugar          1599 non-null float64\n",
      "chlorides               1599 non-null float64\n",
      "free sulfur dioxide     1599 non-null float64\n",
      "total sulfur dioxide    1599 non-null float64\n",
      "density                 1599 non-null float64\n",
      "pH                      1599 non-null float64\n",
      "sulphates               1599 non-null float64\n",
      "alcohol                 1599 non-null float64\n",
      "quality                 1599 non-null int64\n",
      "dtypes: float64(11), int64(1)\n",
      "memory usage: 150.0 KB\n"
     ]
    }
   ],
   "source": [
    "mData = pd.read_csv('winequality-red.csv')\n",
    "print('The Shape of The Data ',mData.shape)\n",
    "mData.info()"
   ]
  },
  {
   "cell_type": "markdown",
   "metadata": {
    "colab_type": "text",
    "id": "292jEUb-Z7jE"
   },
   "source": [
    "# Preprocessing the Data"
   ]
  },
  {
   "cell_type": "code",
   "execution_count": 0,
   "metadata": {
    "colab": {},
    "colab_type": "code",
    "id": "G67jX4QHbW5-"
   },
   "outputs": [],
   "source": [
    "from sklearn import preprocessing\n",
    "from sklearn.utils import resample "
   ]
  },
  {
   "cell_type": "code",
   "execution_count": 0,
   "metadata": {
    "colab": {},
    "colab_type": "code",
    "id": "98IjOIXOZvuO"
   },
   "outputs": [],
   "source": [
    "def Preprocessing_Data(data):\n",
    "  data['quality'] = data[\"quality\"] - 3\n",
    "  Y = data['quality']\n",
    "  X = data.drop(columns=['quality'])\n",
    "  scaler = preprocessing.MinMaxScaler().fit(X)\n",
    "  x_normalized = scaler.transform(X)\n",
    "  newData = pd.DataFrame(columns= X.columns,data=x_normalized)\n",
    "  newData['quality'] = Y\n",
    "  # ---------------------------Ballancing the Data set----------------\n",
    "  Categories = pd.Categorical(Y.astype('object')).categories\n",
    "  numOfCategories = Categories.size\n",
    "  CategorySizes = Y.value_counts()\n",
    "  maxSize = Y.value_counts().max()\n",
    "  mSampledDate =[]\n",
    "  for Category in Categories :\n",
    "    if (newData[Y==Category].shape[0] != maxSize):\n",
    "      temp = resample(newData[Y==Category],\n",
    "                      replace=True,     # sample with replacement\n",
    "                      n_samples=(maxSize-data[Y==Category].shape[0]),\n",
    "                      random_state=123) # reproducible results\n",
    "      mSampledDate.append(temp)\n",
    "\n",
    "  BallancedData=newData\n",
    "  for Data in mSampledDate:\n",
    "    BallancedData = pd.concat([BallancedData, Data])\n",
    "  print(\"total shape after up sampling = \", BallancedData.shape)\n",
    "  BallancedData = pd.DataFrame(BallancedData)\n",
    "  BallancedData.index = np.array(range(0,BallancedData.shape[0]))\n",
    "  \n",
    "  return BallancedData , scaler\n",
    "\n",
    "     "
   ]
  },
  {
   "cell_type": "code",
   "execution_count": 6,
   "metadata": {
    "colab": {
     "base_uri": "https://localhost:8080/",
     "height": 51
    },
    "colab_type": "code",
    "id": "9uo5Nj1EaBH4",
    "outputId": "6fae795c-6a54-400d-a55c-58b3b748f0c6"
   },
   "outputs": [
    {
     "name": "stdout",
     "output_type": "stream",
     "text": [
      "total shape after up sampling =  (4086, 12)\n"
     ]
    },
    {
     "data": {
      "text/plain": [
       "(4086, 12)"
      ]
     },
     "execution_count": 6,
     "metadata": {
      "tags": []
     },
     "output_type": "execute_result"
    }
   ],
   "source": [
    "DataFinal,scaler = Preprocessing_Data(mData)"
   ]
  },
  {
   "cell_type": "markdown",
   "metadata": {
    "colab_type": "text",
    "id": "Co62CG1wcnDn"
   },
   "source": [
    "# Data Helping Functions"
   ]
  },
  {
   "cell_type": "code",
   "execution_count": 0,
   "metadata": {
    "colab": {},
    "colab_type": "code",
    "id": "bO9lsMdycNG8"
   },
   "outputs": [],
   "source": [
    "def GetFeature_Output(data):\n",
    "    y = data.quality\n",
    "    x = data.drop(columns=['quality'])\n",
    "    return x,y\n",
    "  \n",
    "def addOutput(x,y):\n",
    "    x[\"quality\"]=y\n",
    "    return x"
   ]
  },
  {
   "cell_type": "markdown",
   "metadata": {
    "colab_type": "text",
    "id": "okn1b0Lzdotc"
   },
   "source": [
    "# Results Variables "
   ]
  },
  {
   "cell_type": "code",
   "execution_count": 8,
   "metadata": {
    "colab": {
     "base_uri": "https://localhost:8080/",
     "height": 235
    },
    "colab_type": "code",
    "id": "DoAVnA_xdlvo",
    "outputId": "6f65405c-9cca-4b99-bc47-331c8597ece1"
   },
   "outputs": [
    {
     "data": {
      "text/html": [
       "<div>\n",
       "<style scoped>\n",
       "    .dataframe tbody tr th:only-of-type {\n",
       "        vertical-align: middle;\n",
       "    }\n",
       "\n",
       "    .dataframe tbody tr th {\n",
       "        vertical-align: top;\n",
       "    }\n",
       "\n",
       "    .dataframe thead th {\n",
       "        text-align: right;\n",
       "    }\n",
       "</style>\n",
       "<table border=\"1\" class=\"dataframe\">\n",
       "  <thead>\n",
       "    <tr style=\"text-align: right;\">\n",
       "      <th></th>\n",
       "      <th>Metric</th>\n",
       "    </tr>\n",
       "  </thead>\n",
       "  <tbody>\n",
       "    <tr>\n",
       "      <th>0</th>\n",
       "      <td>completeness_score</td>\n",
       "    </tr>\n",
       "    <tr>\n",
       "      <th>1</th>\n",
       "      <td>adjusted_rand_score</td>\n",
       "    </tr>\n",
       "    <tr>\n",
       "      <th>2</th>\n",
       "      <td>fowlkes_mallows_score</td>\n",
       "    </tr>\n",
       "    <tr>\n",
       "      <th>3</th>\n",
       "      <td>silhouette_score</td>\n",
       "    </tr>\n",
       "    <tr>\n",
       "      <th>4</th>\n",
       "      <td>calinski_harabaz_score</td>\n",
       "    </tr>\n",
       "    <tr>\n",
       "      <th>5</th>\n",
       "      <td>CentroidRMSE</td>\n",
       "    </tr>\n",
       "  </tbody>\n",
       "</table>\n",
       "</div>"
      ],
      "text/plain": [
       "                   Metric\n",
       "0      completeness_score\n",
       "1     adjusted_rand_score\n",
       "2   fowlkes_mallows_score\n",
       "3        silhouette_score\n",
       "4  calinski_harabaz_score\n",
       "5            CentroidRMSE"
      ]
     },
     "execution_count": 8,
     "metadata": {
      "tags": []
     },
     "output_type": "execute_result"
    }
   ],
   "source": [
    "myResultsDF = pd.DataFrame()\n",
    "myResultsDF['Metric'] = ['completeness_score','adjusted_rand_score','fowlkes_mallows_score','silhouette_score','calinski_harabaz_score','CentroidRMSE']\n",
    "myResultsDF"
   ]
  },
  {
   "cell_type": "markdown",
   "metadata": {
    "colab_type": "text",
    "id": "NS6aO2t2iWxw"
   },
   "source": [
    "# Evaluation Functions"
   ]
  },
  {
   "cell_type": "code",
   "execution_count": 0,
   "metadata": {
    "colab": {},
    "colab_type": "code",
    "id": "fGOSLZu_jKRn"
   },
   "outputs": [],
   "source": [
    "#Centroid Evaluation Function\n",
    "def CentroidRMSE(Features,Clutered1,Clustered2):\n",
    "    #print(\"C1 IN \",Clutered1.shape)\n",
    "    #print(\"C2 IN \",Clustered2.shape)\n",
    "\n",
    "    X1 = Features.copy()\n",
    "    X1[\"C1\"] = Clutered1\n",
    "    C1Means = X1.groupby(\"C1\").mean().sort_values(X1.columns[0])\n",
    "\n",
    "    X2 = Features.copy()\n",
    "    X2[\"C2\"] = Clustered2\n",
    "    C2Means = X2.groupby(\"C2\").mean().sort_values(X2.columns[0])\n",
    "    #print(\"C1 IN Arranged \",C1Means.shape)\n",
    "    #print(\"C2 IN Arranged\",C2Means.shape)\n",
    "    #if(C1Means.shape[0]>C2Means.shape[0]):\n",
    "    #  diff = C2Means.shape[0] - C1Means.shape[0]\n",
    "    #  C1Means = C1Means[:diff]\n",
    "    #  print(\"C1 IN Changed\",C1Means.shape)\n",
    "    #elif(C1Means.shape[0]<C2Means.shape[0]):\n",
    "    #  diff = C1Means.shape[0] - C2Means.shape[0]\n",
    "    #  C2Means = C2Means[:diff]\n",
    "    #  print(\"C2 IN Changed \",C2Means.shape)\n",
    "    \n",
    "\n",
    "    RMSE = np.sqrt(metrics.mean_squared_error(C1Means,C2Means))\n",
    "    return RMSE"
   ]
  },
  {
   "cell_type": "code",
   "execution_count": 0,
   "metadata": {
    "colab": {},
    "colab_type": "code",
    "id": "n79R6weHidG8"
   },
   "outputs": [],
   "source": [
    "def Evalution(X,Y,Y_Pred):\n",
    "  result = []\n",
    "  result.append(metrics.completeness_score(Y, Y_Pred))\n",
    "  result.append(metrics.adjusted_rand_score(Y, Y_Pred))\n",
    "  result.append(metrics.fowlkes_mallows_score(Y,Y_Pred))\n",
    "  result.append(metrics.silhouette_score(X, Y_Pred, metric='euclidean'))\n",
    "  result.append(metrics.calinski_harabaz_score(X, Y_Pred))\n",
    "  result.append(CentroidRMSE(X,Y,Y_Pred))\n",
    "  return result"
   ]
  },
  {
   "cell_type": "markdown",
   "metadata": {
    "colab_type": "text",
    "id": "A4BTXK0rdImP"
   },
   "source": [
    "# K_Mean Test"
   ]
  },
  {
   "cell_type": "code",
   "execution_count": 0,
   "metadata": {
    "colab": {},
    "colab_type": "code",
    "id": "QVgVz-CadUHj"
   },
   "outputs": [],
   "source": [
    "from sklearn.cluster import KMeans\n",
    "from sklearn import metrics\n",
    "from sklearn.model_selection import train_test_split,StratifiedKFold"
   ]
  },
  {
   "cell_type": "code",
   "execution_count": 0,
   "metadata": {
    "colab": {},
    "colab_type": "code",
    "id": "Pyi0KRGUdHcH"
   },
   "outputs": [],
   "source": [
    "def K_Mean_Test(data,clusters_num):\n",
    "  # full Data\n",
    "  X , Y = GetFeature_Output(data)\n",
    "  Clusterer = KMeans(n_clusters=clusters_num, random_state=0).fit(X)\n",
    "  Y_Result = Clusterer.predict(X)\n",
    "  Test_Result = Evalution(X,Y.values,Y_Result)  \n",
    "  \n",
    "  \n",
    "  \n",
    "  # Train_ Test \n",
    "  x_train, x_test, y_train, y_test = train_test_split(X, Y, test_size=0.4, random_state=0 )\n",
    "  Clusterer = KMeans(n_clusters=clusters_num, random_state=0).fit(x_train)\n",
    "  Y_Result = Clusterer.predict(x_test)\n",
    "  result_train_test = Evalution(x_test, y_test, Y_Result)\n",
    "  \n",
    "\n",
    "  KfordScorer = []\n",
    "  k_fold = StratifiedKFold(n_splits=5)\n",
    "  Clusterer =  KMeans(n_clusters=clusters_num, random_state=0)\n",
    "  for train_indices, test_indices in k_fold.split(X,Y):\n",
    "    Clusterer.fit(X.iloc[train_indices])\n",
    "    Y_Result = Clusterer.predict(X.iloc[test_indices])\n",
    "    x_test = X.iloc[test_indices]\n",
    "    y_test = Y.iloc[test_indices]\n",
    "    resultTemp = Evalution(x_test, y_test, Y_Result)\n",
    "    KfordScorer.append(resultTemp)\n",
    "  results_KFolds= np.mean(KfordScorer,axis=0)\n",
    " \n",
    "  return Test_Result,result_train_test,results_KFolds\n",
    "  "
   ]
  },
  {
   "cell_type": "code",
   "execution_count": 13,
   "metadata": {
    "colab": {
     "base_uri": "https://localhost:8080/",
     "height": 235
    },
    "colab_type": "code",
    "id": "Mo4cSpxxdBhU",
    "outputId": "495f0771-eb2d-4e93-a033-1a844c2338ce"
   },
   "outputs": [
    {
     "data": {
      "text/html": [
       "<div>\n",
       "<style scoped>\n",
       "    .dataframe tbody tr th:only-of-type {\n",
       "        vertical-align: middle;\n",
       "    }\n",
       "\n",
       "    .dataframe tbody tr th {\n",
       "        vertical-align: top;\n",
       "    }\n",
       "\n",
       "    .dataframe thead th {\n",
       "        text-align: right;\n",
       "    }\n",
       "</style>\n",
       "<table border=\"1\" class=\"dataframe\">\n",
       "  <thead>\n",
       "    <tr style=\"text-align: right;\">\n",
       "      <th></th>\n",
       "      <th>Metric</th>\n",
       "      <th>Kmean_Full</th>\n",
       "      <th>Kmean_FTrain_Test</th>\n",
       "      <th>Kmean_FK-folds</th>\n",
       "    </tr>\n",
       "  </thead>\n",
       "  <tbody>\n",
       "    <tr>\n",
       "      <th>0</th>\n",
       "      <td>completeness_score</td>\n",
       "      <td>0.220732</td>\n",
       "      <td>0.196039</td>\n",
       "      <td>0.254787</td>\n",
       "    </tr>\n",
       "    <tr>\n",
       "      <th>1</th>\n",
       "      <td>adjusted_rand_score</td>\n",
       "      <td>0.142946</td>\n",
       "      <td>0.112454</td>\n",
       "      <td>0.164138</td>\n",
       "    </tr>\n",
       "    <tr>\n",
       "      <th>2</th>\n",
       "      <td>fowlkes_mallows_score</td>\n",
       "      <td>0.300667</td>\n",
       "      <td>0.276166</td>\n",
       "      <td>0.323162</td>\n",
       "    </tr>\n",
       "    <tr>\n",
       "      <th>3</th>\n",
       "      <td>silhouette_score</td>\n",
       "      <td>0.234202</td>\n",
       "      <td>0.227988</td>\n",
       "      <td>0.239240</td>\n",
       "    </tr>\n",
       "    <tr>\n",
       "      <th>4</th>\n",
       "      <td>calinski_harabaz_score</td>\n",
       "      <td>1032.076059</td>\n",
       "      <td>401.171639</td>\n",
       "      <td>206.378573</td>\n",
       "    </tr>\n",
       "    <tr>\n",
       "      <th>5</th>\n",
       "      <td>CentroidRMSE</td>\n",
       "      <td>0.129906</td>\n",
       "      <td>0.144322</td>\n",
       "      <td>0.163664</td>\n",
       "    </tr>\n",
       "  </tbody>\n",
       "</table>\n",
       "</div>"
      ],
      "text/plain": [
       "                   Metric   Kmean_Full  Kmean_FTrain_Test  Kmean_FK-folds\n",
       "0      completeness_score     0.220732           0.196039        0.254787\n",
       "1     adjusted_rand_score     0.142946           0.112454        0.164138\n",
       "2   fowlkes_mallows_score     0.300667           0.276166        0.323162\n",
       "3        silhouette_score     0.234202           0.227988        0.239240\n",
       "4  calinski_harabaz_score  1032.076059         401.171639      206.378573\n",
       "5            CentroidRMSE     0.129906           0.144322        0.163664"
      ]
     },
     "execution_count": 13,
     "metadata": {
      "tags": []
     },
     "output_type": "execute_result"
    }
   ],
   "source": [
    "r1,r2,r3 = K_Mean_Test(DataFinal,6)\n",
    "\n",
    "\n",
    "myResultsDF['Kmean_Full'] = r1\n",
    "myResultsDF['Kmean_FTrain_Test'] = r2\n",
    "myResultsDF['Kmean_FK-folds'] = r3\n",
    "myResultsDF\n"
   ]
  },
  {
   "cell_type": "markdown",
   "metadata": {
    "colab_type": "text",
    "id": "3peEDxU-1iau"
   },
   "source": [
    "# PCA -> K_Mean Test"
   ]
  },
  {
   "cell_type": "code",
   "execution_count": 0,
   "metadata": {
    "colab": {},
    "colab_type": "code",
    "id": "Wy6Q-3I62BhB"
   },
   "outputs": [],
   "source": [
    "from sklearn.decomposition import PCA"
   ]
  },
  {
   "cell_type": "code",
   "execution_count": 0,
   "metadata": {
    "colab": {},
    "colab_type": "code",
    "id": "c_HYpaPbqjph"
   },
   "outputs": [],
   "source": [
    "def PCA_K_Mean_Test(data,clusters_num,PCA_comp_num):\n",
    "  \n",
    "  # full Data\n",
    "  X_Original,Y_Original = GetFeature_Output(data)\n",
    "  scikit_pca = PCA(n_components=PCA_comp_num)\n",
    "  X = scikit_pca.fit_transform(X_Original)\n",
    "  X = pd.DataFrame(X)\n",
    "  Clusterer = KMeans(n_clusters=clusters_num, random_state=0).fit(X)\n",
    "  Y_Result = Clusterer.predict(X)\n",
    "  Test_Result = Evalution(X_Original,Y_Original.values,Y_Result)  \n",
    "  \n",
    "  \n",
    "  \n",
    "  # Train_ Test \n",
    "  x_train, x_test, y_train, y_test = train_test_split(X, Y_Original, test_size=0.4, random_state=0 )\n",
    "  Clusterer = KMeans(n_clusters=clusters_num, random_state=0).fit(x_train)\n",
    "  Y_Result = Clusterer.predict(x_test)\n",
    "  result_train_test = Evalution(X_Original.iloc[x_test.index], y_test, Y_Result)\n",
    "  \n",
    "\n",
    "  KfordScorer = []\n",
    "  k_fold = StratifiedKFold(n_splits=5)\n",
    "  Clusterer =  KMeans(n_clusters=clusters_num, random_state=0)\n",
    "  for train_indices, test_indices in k_fold.split(X,Y_Original):\n",
    "    Clusterer.fit(X.iloc[train_indices])\n",
    "    Y_Result = Clusterer.predict(X.iloc[test_indices])\n",
    "    x_test = X.iloc[test_indices]\n",
    "    y_test = Y_Original.iloc[test_indices]\n",
    "    resultTemp = Evalution(X_Original.iloc[x_test.index], y_test, Y_Result)\n",
    "    KfordScorer.append(resultTemp)\n",
    "  results_KFolds= np.mean(KfordScorer,axis=0)\n",
    " \n",
    "  return Test_Result,result_train_test,results_KFolds\n",
    "  "
   ]
  },
  {
   "cell_type": "code",
   "execution_count": 16,
   "metadata": {
    "colab": {
     "base_uri": "https://localhost:8080/",
     "height": 235
    },
    "colab_type": "code",
    "id": "qXFR0M8c3HNW",
    "outputId": "7f402981-96e5-4384-c849-fde3d058e19d"
   },
   "outputs": [
    {
     "data": {
      "text/html": [
       "<div>\n",
       "<style scoped>\n",
       "    .dataframe tbody tr th:only-of-type {\n",
       "        vertical-align: middle;\n",
       "    }\n",
       "\n",
       "    .dataframe tbody tr th {\n",
       "        vertical-align: top;\n",
       "    }\n",
       "\n",
       "    .dataframe thead th {\n",
       "        text-align: right;\n",
       "    }\n",
       "</style>\n",
       "<table border=\"1\" class=\"dataframe\">\n",
       "  <thead>\n",
       "    <tr style=\"text-align: right;\">\n",
       "      <th></th>\n",
       "      <th>Metric</th>\n",
       "      <th>Kmean_Full</th>\n",
       "      <th>Kmean_FTrain_Test</th>\n",
       "      <th>Kmean_FK-folds</th>\n",
       "      <th>PCA_Full</th>\n",
       "      <th>PCA_Train_Test</th>\n",
       "      <th>PCA_K-folds</th>\n",
       "    </tr>\n",
       "  </thead>\n",
       "  <tbody>\n",
       "    <tr>\n",
       "      <th>0</th>\n",
       "      <td>completeness_score</td>\n",
       "      <td>0.220732</td>\n",
       "      <td>0.196039</td>\n",
       "      <td>0.254787</td>\n",
       "      <td>0.218227</td>\n",
       "      <td>0.214853</td>\n",
       "      <td>0.232714</td>\n",
       "    </tr>\n",
       "    <tr>\n",
       "      <th>1</th>\n",
       "      <td>adjusted_rand_score</td>\n",
       "      <td>0.142946</td>\n",
       "      <td>0.112454</td>\n",
       "      <td>0.164138</td>\n",
       "      <td>0.141182</td>\n",
       "      <td>0.136143</td>\n",
       "      <td>0.140458</td>\n",
       "    </tr>\n",
       "    <tr>\n",
       "      <th>2</th>\n",
       "      <td>fowlkes_mallows_score</td>\n",
       "      <td>0.300667</td>\n",
       "      <td>0.276166</td>\n",
       "      <td>0.323162</td>\n",
       "      <td>0.297863</td>\n",
       "      <td>0.293402</td>\n",
       "      <td>0.298038</td>\n",
       "    </tr>\n",
       "    <tr>\n",
       "      <th>3</th>\n",
       "      <td>silhouette_score</td>\n",
       "      <td>0.234202</td>\n",
       "      <td>0.227988</td>\n",
       "      <td>0.239240</td>\n",
       "      <td>0.233839</td>\n",
       "      <td>0.227327</td>\n",
       "      <td>0.228807</td>\n",
       "    </tr>\n",
       "    <tr>\n",
       "      <th>4</th>\n",
       "      <td>calinski_harabaz_score</td>\n",
       "      <td>1032.076059</td>\n",
       "      <td>401.171639</td>\n",
       "      <td>206.378573</td>\n",
       "      <td>1032.396724</td>\n",
       "      <td>401.099790</td>\n",
       "      <td>204.639195</td>\n",
       "    </tr>\n",
       "    <tr>\n",
       "      <th>5</th>\n",
       "      <td>CentroidRMSE</td>\n",
       "      <td>0.129906</td>\n",
       "      <td>0.144322</td>\n",
       "      <td>0.163664</td>\n",
       "      <td>0.144000</td>\n",
       "      <td>0.125932</td>\n",
       "      <td>0.132044</td>\n",
       "    </tr>\n",
       "  </tbody>\n",
       "</table>\n",
       "</div>"
      ],
      "text/plain": [
       "                   Metric   Kmean_Full  Kmean_FTrain_Test  Kmean_FK-folds  \\\n",
       "0      completeness_score     0.220732           0.196039        0.254787   \n",
       "1     adjusted_rand_score     0.142946           0.112454        0.164138   \n",
       "2   fowlkes_mallows_score     0.300667           0.276166        0.323162   \n",
       "3        silhouette_score     0.234202           0.227988        0.239240   \n",
       "4  calinski_harabaz_score  1032.076059         401.171639      206.378573   \n",
       "5            CentroidRMSE     0.129906           0.144322        0.163664   \n",
       "\n",
       "      PCA_Full  PCA_Train_Test  PCA_K-folds  \n",
       "0     0.218227        0.214853     0.232714  \n",
       "1     0.141182        0.136143     0.140458  \n",
       "2     0.297863        0.293402     0.298038  \n",
       "3     0.233839        0.227327     0.228807  \n",
       "4  1032.396724      401.099790   204.639195  \n",
       "5     0.144000        0.125932     0.132044  "
      ]
     },
     "execution_count": 16,
     "metadata": {
      "tags": []
     },
     "output_type": "execute_result"
    }
   ],
   "source": [
    "r1,r2,r3 = PCA_K_Mean_Test(DataFinal,6,5)\n",
    "\n",
    "\n",
    "myResultsDF['PCA_Full'] = r1\n",
    "myResultsDF['PCA_Train_Test'] = r2\n",
    "myResultsDF['PCA_K-folds'] = r3\n",
    "myResultsDF"
   ]
  },
  {
   "cell_type": "markdown",
   "metadata": {
    "colab_type": "text",
    "id": "VXoCq3Nd4NPq"
   },
   "source": [
    "# AutoEncoder - > K_mean Test"
   ]
  },
  {
   "cell_type": "code",
   "execution_count": 17,
   "metadata": {
    "colab": {
     "base_uri": "https://localhost:8080/",
     "height": 34
    },
    "colab_type": "code",
    "id": "h2bQ2Ehu7QSJ",
    "outputId": "bf07f28c-5400-46e2-883d-4c37f1f6af6d"
   },
   "outputs": [
    {
     "name": "stderr",
     "output_type": "stream",
     "text": [
      "Using TensorFlow backend.\n"
     ]
    }
   ],
   "source": [
    "from keras.models import Model\n",
    "from keras.layers import Input, Dense, Dropout ,BatchNormalization\n"
   ]
  },
  {
   "cell_type": "code",
   "execution_count": 0,
   "metadata": {
    "colab": {},
    "colab_type": "code",
    "id": "x1zylWAU3JVu"
   },
   "outputs": [],
   "source": [
    "def create_simple_AE(X,Y, enc_size, activation_H, activation_out):\n",
    "  \n",
    "\n",
    "  in_layer = Input(shape=(X.shape[1],))\n",
    "  enc_layer = Dense(enc_size, activation=activation_H)(in_layer)\n",
    "  dec_layer = Dense(X.shape[1], activation=activation_out)(enc_layer)\n",
    "\n",
    "  AE = Model(in_layer, dec_layer)\n",
    "  Enc = Model(in_layer, enc_layer)\n",
    "\n",
    "  AE.compile(optimizer='adam', loss='mean_squared_error')\n",
    "\n",
    "  x_train, x_test, y_train, y_test = train_test_split(X, Y, test_size=0.2, random_state=0 )\n",
    "  AE.fit(x_train, x_train,\n",
    "         epochs=50,\n",
    "         batch_size=50,\n",
    "         shuffle=True,\n",
    "         verbose=0,\n",
    "         validation_data=(x_test, x_test))\n",
    "  \n",
    "  \n",
    "  return AE, Enc"
   ]
  },
  {
   "cell_type": "code",
   "execution_count": 0,
   "metadata": {
    "colab": {},
    "colab_type": "code",
    "id": "6THqkfWtOeIV"
   },
   "outputs": [],
   "source": [
    "def AE_Kmean_Test(data,encSize,activation,clusters_num):\n",
    "  \n",
    "  # full Data\n",
    "  X_Original,Y_Original = GetFeature_Output(data)\n",
    "  AE,Enc = create_simple_AE(X_Original,Y_Original,encSize,activation,activation)\n",
    "  \n",
    "  X = pd.DataFrame(Enc.predict(X_Original))\n",
    "  Clusterer = KMeans(n_clusters=clusters_num, random_state=0).fit(X)\n",
    "  Y_Result = Clusterer.predict(X)\n",
    "  Test_Result = Evalution(X_Original,Y_Original.values,Y_Result)  \n",
    "  \n",
    "  \n",
    "   \n",
    "  \n",
    "  # Train_ Test \n",
    "  x_train, x_test, y_train, y_test = train_test_split(X_Original, Y_Original, test_size=0.4, random_state=0)\n",
    "  \n",
    "  AE,Enc = create_simple_AE(x_train,y_train,encSize,activation,activation)  \n",
    "  X_train_encoded = pd.DataFrame(Enc.predict(x_train))\n",
    "  X_test_encoded = pd.DataFrame(Enc.predict(x_test))\n",
    "  \n",
    "  Clusterer = KMeans(n_clusters=clusters_num, random_state=0).fit(X_train_encoded)\n",
    "  Y_Result = Clusterer.predict(X_test_encoded)\n",
    "  result_train_test = Evalution(X_Original.iloc[x_test.index], y_test, Y_Result)\n",
    "  \n",
    "  \n",
    "  # K-Folds\n",
    "  KfordScorer = []\n",
    "  k_fold = StratifiedKFold(n_splits=5)\n",
    "  for train_indices, test_indices in k_fold.split(X_Original,Y_Original):\n",
    "    AE,Enc = create_simple_AE(X_Original.iloc[train_indices],Y_Original.iloc[train_indices],encSize,activation,activation)  \n",
    "    X_train_encoded = pd.DataFrame(Enc.predict(X_Original.iloc[train_indices]))\n",
    "    X_test_encoded = pd.DataFrame(Enc.predict(X_Original.iloc[test_indices]))\n",
    "    \n",
    "    Clusterer = KMeans(n_clusters=clusters_num, random_state=0).fit(X_train_encoded)\n",
    "    Y_Result = Clusterer.predict(X_test_encoded)\n",
    "    y_test = Y_Original.iloc[test_indices]\n",
    "    resultTemp = Evalution(X_Original.iloc[test_indices], y_test, Y_Result)\n",
    "    KfordScorer.append(resultTemp)\n",
    "  results_KFolds= np.mean(KfordScorer,axis=0)\n",
    " \n",
    "  return Test_Result,result_train_test,results_KFolds\n",
    "\n",
    "  "
   ]
  },
  {
   "cell_type": "code",
   "execution_count": 20,
   "metadata": {
    "colab": {
     "base_uri": "https://localhost:8080/",
     "height": 374
    },
    "colab_type": "code",
    "id": "n-GN8HNLREzS",
    "outputId": "32a2af25-328e-469a-edd2-7fefd7bcfadd"
   },
   "outputs": [
    {
     "name": "stdout",
     "output_type": "stream",
     "text": [
      "WARNING:tensorflow:From /usr/local/lib/python3.6/dist-packages/tensorflow/python/framework/op_def_library.py:263: colocate_with (from tensorflow.python.framework.ops) is deprecated and will be removed in a future version.\n",
      "Instructions for updating:\n",
      "Colocations handled automatically by placer.\n",
      "WARNING:tensorflow:From /usr/local/lib/python3.6/dist-packages/tensorflow/python/ops/math_ops.py:3066: to_int32 (from tensorflow.python.ops.math_ops) is deprecated and will be removed in a future version.\n",
      "Instructions for updating:\n",
      "Use tf.cast instead.\n"
     ]
    },
    {
     "data": {
      "text/html": [
       "<div>\n",
       "<style scoped>\n",
       "    .dataframe tbody tr th:only-of-type {\n",
       "        vertical-align: middle;\n",
       "    }\n",
       "\n",
       "    .dataframe tbody tr th {\n",
       "        vertical-align: top;\n",
       "    }\n",
       "\n",
       "    .dataframe thead th {\n",
       "        text-align: right;\n",
       "    }\n",
       "</style>\n",
       "<table border=\"1\" class=\"dataframe\">\n",
       "  <thead>\n",
       "    <tr style=\"text-align: right;\">\n",
       "      <th></th>\n",
       "      <th>Metric</th>\n",
       "      <th>Kmean_Full</th>\n",
       "      <th>Kmean_FTrain_Test</th>\n",
       "      <th>Kmean_FK-folds</th>\n",
       "      <th>PCA_Full</th>\n",
       "      <th>PCA_Train_Test</th>\n",
       "      <th>PCA_K-folds</th>\n",
       "      <th>AE_KMean_Full</th>\n",
       "      <th>AE_KMean__Train_Test</th>\n",
       "      <th>AE_KMean__K-folds</th>\n",
       "    </tr>\n",
       "  </thead>\n",
       "  <tbody>\n",
       "    <tr>\n",
       "      <th>0</th>\n",
       "      <td>completeness_score</td>\n",
       "      <td>0.220732</td>\n",
       "      <td>0.196039</td>\n",
       "      <td>0.254787</td>\n",
       "      <td>0.218227</td>\n",
       "      <td>0.214853</td>\n",
       "      <td>0.232714</td>\n",
       "      <td>0.231459</td>\n",
       "      <td>0.198721</td>\n",
       "      <td>0.260030</td>\n",
       "    </tr>\n",
       "    <tr>\n",
       "      <th>1</th>\n",
       "      <td>adjusted_rand_score</td>\n",
       "      <td>0.142946</td>\n",
       "      <td>0.112454</td>\n",
       "      <td>0.164138</td>\n",
       "      <td>0.141182</td>\n",
       "      <td>0.136143</td>\n",
       "      <td>0.140458</td>\n",
       "      <td>0.166723</td>\n",
       "      <td>0.130478</td>\n",
       "      <td>0.170808</td>\n",
       "    </tr>\n",
       "    <tr>\n",
       "      <th>2</th>\n",
       "      <td>fowlkes_mallows_score</td>\n",
       "      <td>0.300667</td>\n",
       "      <td>0.276166</td>\n",
       "      <td>0.323162</td>\n",
       "      <td>0.297863</td>\n",
       "      <td>0.293402</td>\n",
       "      <td>0.298038</td>\n",
       "      <td>0.309826</td>\n",
       "      <td>0.284217</td>\n",
       "      <td>0.319184</td>\n",
       "    </tr>\n",
       "    <tr>\n",
       "      <th>3</th>\n",
       "      <td>silhouette_score</td>\n",
       "      <td>0.234202</td>\n",
       "      <td>0.227988</td>\n",
       "      <td>0.239240</td>\n",
       "      <td>0.233839</td>\n",
       "      <td>0.227327</td>\n",
       "      <td>0.228807</td>\n",
       "      <td>0.194350</td>\n",
       "      <td>0.171895</td>\n",
       "      <td>0.202508</td>\n",
       "    </tr>\n",
       "    <tr>\n",
       "      <th>4</th>\n",
       "      <td>calinski_harabaz_score</td>\n",
       "      <td>1032.076059</td>\n",
       "      <td>401.171639</td>\n",
       "      <td>206.378573</td>\n",
       "      <td>1032.396724</td>\n",
       "      <td>401.099790</td>\n",
       "      <td>204.639195</td>\n",
       "      <td>994.602390</td>\n",
       "      <td>357.920717</td>\n",
       "      <td>195.884810</td>\n",
       "    </tr>\n",
       "    <tr>\n",
       "      <th>5</th>\n",
       "      <td>CentroidRMSE</td>\n",
       "      <td>0.129906</td>\n",
       "      <td>0.144322</td>\n",
       "      <td>0.163664</td>\n",
       "      <td>0.144000</td>\n",
       "      <td>0.125932</td>\n",
       "      <td>0.132044</td>\n",
       "      <td>0.132300</td>\n",
       "      <td>0.114560</td>\n",
       "      <td>0.124141</td>\n",
       "    </tr>\n",
       "  </tbody>\n",
       "</table>\n",
       "</div>"
      ],
      "text/plain": [
       "                   Metric   Kmean_Full  Kmean_FTrain_Test  Kmean_FK-folds  \\\n",
       "0      completeness_score     0.220732           0.196039        0.254787   \n",
       "1     adjusted_rand_score     0.142946           0.112454        0.164138   \n",
       "2   fowlkes_mallows_score     0.300667           0.276166        0.323162   \n",
       "3        silhouette_score     0.234202           0.227988        0.239240   \n",
       "4  calinski_harabaz_score  1032.076059         401.171639      206.378573   \n",
       "5            CentroidRMSE     0.129906           0.144322        0.163664   \n",
       "\n",
       "      PCA_Full  PCA_Train_Test  PCA_K-folds  AE_KMean_Full  \\\n",
       "0     0.218227        0.214853     0.232714       0.231459   \n",
       "1     0.141182        0.136143     0.140458       0.166723   \n",
       "2     0.297863        0.293402     0.298038       0.309826   \n",
       "3     0.233839        0.227327     0.228807       0.194350   \n",
       "4  1032.396724      401.099790   204.639195     994.602390   \n",
       "5     0.144000        0.125932     0.132044       0.132300   \n",
       "\n",
       "   AE_KMean__Train_Test  AE_KMean__K-folds  \n",
       "0              0.198721           0.260030  \n",
       "1              0.130478           0.170808  \n",
       "2              0.284217           0.319184  \n",
       "3              0.171895           0.202508  \n",
       "4            357.920717         195.884810  \n",
       "5              0.114560           0.124141  "
      ]
     },
     "execution_count": 20,
     "metadata": {
      "tags": []
     },
     "output_type": "execute_result"
    }
   ],
   "source": [
    "r1,r2,r3 = AE_Kmean_Test(DataFinal,10,'sigmoid',6)\n",
    "\n",
    "\n",
    "myResultsDF['AE_KMean_Full'] = r1\n",
    "myResultsDF['AE_KMean__Train_Test'] = r2\n",
    "myResultsDF['AE_KMean__K-folds'] = r3\n",
    "myResultsDF"
   ]
  },
  {
   "cell_type": "markdown",
   "metadata": {
    "colab_type": "text",
    "id": "22b0bZYA5yTG"
   },
   "source": [
    "# AutoEncoder with SoftMax layer"
   ]
  },
  {
   "cell_type": "code",
   "execution_count": 0,
   "metadata": {
    "colab": {},
    "colab_type": "code",
    "id": "vkPIFcvm7R9o"
   },
   "outputs": [],
   "source": [
    "from keras.activations import softmax"
   ]
  },
  {
   "cell_type": "code",
   "execution_count": 0,
   "metadata": {
    "colab": {},
    "colab_type": "code",
    "id": "dsWS5fbr4aUc"
   },
   "outputs": [],
   "source": [
    "def create_softmax_AE(X,Y, enc_size, activation_H, activation_out):\n",
    "  \n",
    "\n",
    "  in_layer = Input(shape=(X.shape[1],))\n",
    "  enc_layer = Dense(enc_size, activation=activation_H)(in_layer)\n",
    "  enc_layer = BatchNormalization()(enc_layer)\n",
    "  enc_layer= Dropout(0.7)(enc_layer)\n",
    "  enc_layer = Dense(Y.value_counts().size, activation='softmax')(enc_layer)\n",
    "  enc_layer = BatchNormalization()(enc_layer)\n",
    "  enc_layer = Dropout(0.7)(enc_layer)\n",
    "  dec_layer = Dense(enc_size, activation=activation_out)(enc_layer)\n",
    "  dec_layer = BatchNormalization()(dec_layer)\n",
    "  dec_layer = Dropout(0.7)(dec_layer)\n",
    "  dec_layer = Dense(X.shape[1], activation=activation_out)(dec_layer)\n",
    "\n",
    "  AE = Model(in_layer, dec_layer)\n",
    "  Enc = Model(in_layer, enc_layer)\n",
    "\n",
    "  AE.compile(optimizer='adam', loss='mean_squared_error')\n",
    "\n",
    "  x_train, x_test, y_train, y_test = train_test_split(X, Y, test_size=0.2, random_state=0 )\n",
    "  AE.fit(x_train, x_train,\n",
    "         epochs=50,\n",
    "         batch_size=50,\n",
    "         shuffle=True,\n",
    "         verbose=0,\n",
    "         validation_data=(x_test, x_test))\n",
    "  \n",
    "  \n",
    "  return AE, Enc"
   ]
  },
  {
   "cell_type": "code",
   "execution_count": 0,
   "metadata": {
    "colab": {},
    "colab_type": "code",
    "id": "Y37ICt4O4VXB"
   },
   "outputs": [],
   "source": [
    "def AE_SoftMax_Test(data,encSize,activation):\n",
    "  \n",
    "  # full Data\n",
    "  X_Original,Y_Original = GetFeature_Output(data)\n",
    "  AE,Enc = create_softmax_AE(X_Original,Y_Original,encSize,activation,activation)\n",
    "  \n",
    "  EncOutput = pd.DataFrame(Enc.predict(X_Original))\n",
    "  Y_Result = EncOutput.idxmax(axis=1)\n",
    "  Test_Result = Evalution(X_Original,Y_Original.values,Y_Result) \n",
    "  \n",
    "  \n",
    "   \n",
    "  \n",
    "  # Train_ Test \n",
    "  x_train, x_test, y_train, y_test = train_test_split(X_Original, Y_Original, test_size=0.4, random_state=0)\n",
    "  AE,Enc = create_softmax_AE(x_train,y_train,encSize,activation,activation)  \n",
    "  EncOutput = pd.DataFrame(Enc.predict(x_test))\n",
    "  Y_Result = EncOutput.idxmax(axis=1)\n",
    "  result_train_test = Evalution(X_Original.iloc[x_test.index], y_test, Y_Result.values)\n",
    "  \n",
    "  \n",
    "  # K-Folds\n",
    "  KfordScorer = []\n",
    "  k_fold = StratifiedKFold(n_splits=5)\n",
    "  for train_indices, test_indices in k_fold.split(X_Original,Y_Original):\n",
    "    AE,Enc = create_softmax_AE(X_Original.iloc[train_indices],Y_Original.iloc[train_indices],encSize,activation,activation)  \n",
    "    EncOutput = pd.DataFrame(Enc.predict(X_Original.iloc[test_indices]))\n",
    "    Y_Result = EncOutput.idxmax(axis=1)\n",
    "    #print(\"C2\" ,Y_Result.value_counts())\n",
    "    y_test = Y_Original.iloc[test_indices]\n",
    "    #print(\"C1\",y_test.value_counts())\n",
    "    resultTemp = Evalution(X_Original.iloc[test_indices], y_test, Y_Result.values)\n",
    "    KfordScorer.append(resultTemp)\n",
    "  results_KFolds= np.mean(KfordScorer,axis=0)\n",
    " \n",
    "  return Test_Result,result_train_test,results_KFolds\n",
    "\n",
    "  "
   ]
  },
  {
   "cell_type": "code",
   "execution_count": 24,
   "metadata": {
    "colab": {
     "base_uri": "https://localhost:8080/",
     "height": 323
    },
    "colab_type": "code",
    "id": "qT7ynB3M6yoz",
    "outputId": "ccc9e28b-0e18-4836-bcfa-6515dae88627"
   },
   "outputs": [
    {
     "name": "stdout",
     "output_type": "stream",
     "text": [
      "WARNING:tensorflow:From /usr/local/lib/python3.6/dist-packages/keras/backend/tensorflow_backend.py:3445: calling dropout (from tensorflow.python.ops.nn_ops) with keep_prob is deprecated and will be removed in a future version.\n",
      "Instructions for updating:\n",
      "Please use `rate` instead of `keep_prob`. Rate should be set to `rate = 1 - keep_prob`.\n"
     ]
    },
    {
     "data": {
      "text/html": [
       "<div>\n",
       "<style scoped>\n",
       "    .dataframe tbody tr th:only-of-type {\n",
       "        vertical-align: middle;\n",
       "    }\n",
       "\n",
       "    .dataframe tbody tr th {\n",
       "        vertical-align: top;\n",
       "    }\n",
       "\n",
       "    .dataframe thead th {\n",
       "        text-align: right;\n",
       "    }\n",
       "</style>\n",
       "<table border=\"1\" class=\"dataframe\">\n",
       "  <thead>\n",
       "    <tr style=\"text-align: right;\">\n",
       "      <th></th>\n",
       "      <th>Metric</th>\n",
       "      <th>Kmean_Full</th>\n",
       "      <th>Kmean_FTrain_Test</th>\n",
       "      <th>Kmean_FK-folds</th>\n",
       "      <th>PCA_Full</th>\n",
       "      <th>PCA_Train_Test</th>\n",
       "      <th>PCA_K-folds</th>\n",
       "      <th>AE_KMean_Full</th>\n",
       "      <th>AE_KMean__Train_Test</th>\n",
       "      <th>AE_KMean__K-folds</th>\n",
       "      <th>AE_Softmax_Full</th>\n",
       "      <th>AE_Softmax__Train_Test</th>\n",
       "      <th>AE_Softmax__K-folds</th>\n",
       "    </tr>\n",
       "  </thead>\n",
       "  <tbody>\n",
       "    <tr>\n",
       "      <th>0</th>\n",
       "      <td>completeness_score</td>\n",
       "      <td>0.220732</td>\n",
       "      <td>0.196039</td>\n",
       "      <td>0.254787</td>\n",
       "      <td>0.218227</td>\n",
       "      <td>0.214853</td>\n",
       "      <td>0.232714</td>\n",
       "      <td>0.231459</td>\n",
       "      <td>0.198721</td>\n",
       "      <td>0.260030</td>\n",
       "      <td>0.116105</td>\n",
       "      <td>0.141802</td>\n",
       "      <td>0.169871</td>\n",
       "    </tr>\n",
       "    <tr>\n",
       "      <th>1</th>\n",
       "      <td>adjusted_rand_score</td>\n",
       "      <td>0.142946</td>\n",
       "      <td>0.112454</td>\n",
       "      <td>0.164138</td>\n",
       "      <td>0.141182</td>\n",
       "      <td>0.136143</td>\n",
       "      <td>0.140458</td>\n",
       "      <td>0.166723</td>\n",
       "      <td>0.130478</td>\n",
       "      <td>0.170808</td>\n",
       "      <td>0.066779</td>\n",
       "      <td>0.076557</td>\n",
       "      <td>0.090318</td>\n",
       "    </tr>\n",
       "    <tr>\n",
       "      <th>2</th>\n",
       "      <td>fowlkes_mallows_score</td>\n",
       "      <td>0.300667</td>\n",
       "      <td>0.276166</td>\n",
       "      <td>0.323162</td>\n",
       "      <td>0.297863</td>\n",
       "      <td>0.293402</td>\n",
       "      <td>0.298038</td>\n",
       "      <td>0.309826</td>\n",
       "      <td>0.284217</td>\n",
       "      <td>0.319184</td>\n",
       "      <td>0.256422</td>\n",
       "      <td>0.256203</td>\n",
       "      <td>0.284742</td>\n",
       "    </tr>\n",
       "    <tr>\n",
       "      <th>3</th>\n",
       "      <td>silhouette_score</td>\n",
       "      <td>0.234202</td>\n",
       "      <td>0.227988</td>\n",
       "      <td>0.239240</td>\n",
       "      <td>0.233839</td>\n",
       "      <td>0.227327</td>\n",
       "      <td>0.228807</td>\n",
       "      <td>0.194350</td>\n",
       "      <td>0.171895</td>\n",
       "      <td>0.202508</td>\n",
       "      <td>0.019827</td>\n",
       "      <td>0.080360</td>\n",
       "      <td>0.057717</td>\n",
       "    </tr>\n",
       "    <tr>\n",
       "      <th>4</th>\n",
       "      <td>calinski_harabaz_score</td>\n",
       "      <td>1032.076059</td>\n",
       "      <td>401.171639</td>\n",
       "      <td>206.378573</td>\n",
       "      <td>1032.396724</td>\n",
       "      <td>401.099790</td>\n",
       "      <td>204.639195</td>\n",
       "      <td>994.602390</td>\n",
       "      <td>357.920717</td>\n",
       "      <td>195.884810</td>\n",
       "      <td>502.449445</td>\n",
       "      <td>227.892494</td>\n",
       "      <td>100.912806</td>\n",
       "    </tr>\n",
       "    <tr>\n",
       "      <th>5</th>\n",
       "      <td>CentroidRMSE</td>\n",
       "      <td>0.129906</td>\n",
       "      <td>0.144322</td>\n",
       "      <td>0.163664</td>\n",
       "      <td>0.144000</td>\n",
       "      <td>0.125932</td>\n",
       "      <td>0.132044</td>\n",
       "      <td>0.132300</td>\n",
       "      <td>0.114560</td>\n",
       "      <td>0.124141</td>\n",
       "      <td>0.093423</td>\n",
       "      <td>0.099305</td>\n",
       "      <td>0.099337</td>\n",
       "    </tr>\n",
       "  </tbody>\n",
       "</table>\n",
       "</div>"
      ],
      "text/plain": [
       "                   Metric   Kmean_Full  Kmean_FTrain_Test  Kmean_FK-folds  \\\n",
       "0      completeness_score     0.220732           0.196039        0.254787   \n",
       "1     adjusted_rand_score     0.142946           0.112454        0.164138   \n",
       "2   fowlkes_mallows_score     0.300667           0.276166        0.323162   \n",
       "3        silhouette_score     0.234202           0.227988        0.239240   \n",
       "4  calinski_harabaz_score  1032.076059         401.171639      206.378573   \n",
       "5            CentroidRMSE     0.129906           0.144322        0.163664   \n",
       "\n",
       "      PCA_Full  PCA_Train_Test  PCA_K-folds  AE_KMean_Full  \\\n",
       "0     0.218227        0.214853     0.232714       0.231459   \n",
       "1     0.141182        0.136143     0.140458       0.166723   \n",
       "2     0.297863        0.293402     0.298038       0.309826   \n",
       "3     0.233839        0.227327     0.228807       0.194350   \n",
       "4  1032.396724      401.099790   204.639195     994.602390   \n",
       "5     0.144000        0.125932     0.132044       0.132300   \n",
       "\n",
       "   AE_KMean__Train_Test  AE_KMean__K-folds  AE_Softmax_Full  \\\n",
       "0              0.198721           0.260030         0.116105   \n",
       "1              0.130478           0.170808         0.066779   \n",
       "2              0.284217           0.319184         0.256422   \n",
       "3              0.171895           0.202508         0.019827   \n",
       "4            357.920717         195.884810       502.449445   \n",
       "5              0.114560           0.124141         0.093423   \n",
       "\n",
       "   AE_Softmax__Train_Test  AE_Softmax__K-folds  \n",
       "0                0.141802             0.169871  \n",
       "1                0.076557             0.090318  \n",
       "2                0.256203             0.284742  \n",
       "3                0.080360             0.057717  \n",
       "4              227.892494           100.912806  \n",
       "5                0.099305             0.099337  "
      ]
     },
     "execution_count": 24,
     "metadata": {
      "tags": []
     },
     "output_type": "execute_result"
    }
   ],
   "source": [
    "r1,r2,r3 = AE_SoftMax_Test(DataFinal,10,'sigmoid')\n",
    "\n",
    "\n",
    "myResultsDF['AE_Softmax_Full'] = r1\n",
    "myResultsDF['AE_Softmax__Train_Test'] = r2\n",
    "myResultsDF['AE_Softmax__K-folds'] = r3\n",
    "myResultsDF"
   ]
  },
  {
   "cell_type": "markdown",
   "metadata": {
    "colab_type": "text",
    "id": "rxE6byvWTU_x"
   },
   "source": [
    "# Saving Results "
   ]
  },
  {
   "cell_type": "code",
   "execution_count": 0,
   "metadata": {
    "colab": {},
    "colab_type": "code",
    "id": "-nCowd5G9V5n"
   },
   "outputs": [],
   "source": [
    "myResultsDF.to_csv(\"evaluation_results_UpSampling.csv\")"
   ]
  },
  {
   "cell_type": "code",
   "execution_count": 0,
   "metadata": {
    "colab": {},
    "colab_type": "code",
    "id": "cwzaukXZ4WEb"
   },
   "outputs": [],
   "source": []
  }
 ],
 "metadata": {
  "accelerator": "GPU",
  "colab": {
   "collapsed_sections": [],
   "name": "Untitled3.ipynb",
   "provenance": [],
   "version": "0.3.2"
  },
  "kernelspec": {
   "display_name": "Python 3",
   "language": "python",
   "name": "python3"
  },
  "language_info": {
   "codemirror_mode": {
    "name": "ipython",
    "version": 3
   },
   "file_extension": ".py",
   "mimetype": "text/x-python",
   "name": "python",
   "nbconvert_exporter": "python",
   "pygments_lexer": "ipython3",
   "version": "3.6.7"
  }
 },
 "nbformat": 4,
 "nbformat_minor": 1
}
