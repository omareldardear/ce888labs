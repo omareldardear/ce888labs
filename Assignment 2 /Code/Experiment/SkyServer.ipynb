{
  "nbformat": 4,
  "nbformat_minor": 0,
  "metadata": {
    "colab": {
      "name": "SkyServer.ipynb",
      "version": "0.3.2",
      "provenance": [],
      "collapsed_sections": [],
      "toc_visible": true
    },
    "language_info": {
      "codemirror_mode": {
        "name": "ipython",
        "version": 3
      },
      "file_extension": ".py",
      "mimetype": "text/x-python",
      "name": "python",
      "nbconvert_exporter": "python",
      "pygments_lexer": "ipython3",
      "version": "3.6.7"
    },
    "kernelspec": {
      "display_name": "Python 3",
      "language": "python",
      "name": "python3"
    },
    "accelerator": "GPU"
  },
  "cells": [
    {
      "metadata": {
        "colab_type": "code",
        "id": "c5xWe53PZcXs",
        "colab": {}
      },
      "cell_type": "code",
      "source": [
        "import numpy as np\n",
        "import pandas as pd\n",
        "import matplotlib.pyplot as plt\n",
        "import seaborn as sns\n",
        "\n",
        "import warnings\n",
        "warnings.filterwarnings('ignore')"
      ],
      "execution_count": 0,
      "outputs": []
    },
    {
      "metadata": {
        "colab_type": "text",
        "id": "sxXiiB6vZnld"
      },
      "cell_type": "markdown",
      "source": [
        "# Reading the Data"
      ]
    },
    {
      "metadata": {
        "colab_type": "code",
        "id": "WTZNGNCyZino",
        "outputId": "adea54a8-8d86-411a-9f65-12f9b2030dd0",
        "colab": {
          "base_uri": "https://localhost:8080/",
          "height": 425
        }
      },
      "cell_type": "code",
      "source": [
        "mData = pd.read_csv('Skyserver_SQL2_27_2018 6_51_39 PM.csv')\n",
        "print('The Shape of The Data ',mData.shape)\n",
        "mData.info()"
      ],
      "execution_count": 57,
      "outputs": [
        {
          "output_type": "stream",
          "text": [
            "The Shape of The Data  (10000, 18)\n",
            "<class 'pandas.core.frame.DataFrame'>\n",
            "RangeIndex: 10000 entries, 0 to 9999\n",
            "Data columns (total 18 columns):\n",
            "objid        10000 non-null float64\n",
            "ra           10000 non-null float64\n",
            "dec          10000 non-null float64\n",
            "u            10000 non-null float64\n",
            "g            10000 non-null float64\n",
            "r            10000 non-null float64\n",
            "i            10000 non-null float64\n",
            "z            10000 non-null float64\n",
            "run          10000 non-null int64\n",
            "rerun        10000 non-null int64\n",
            "camcol       10000 non-null int64\n",
            "field        10000 non-null int64\n",
            "specobjid    10000 non-null float64\n",
            "class        10000 non-null object\n",
            "redshift     10000 non-null float64\n",
            "plate        10000 non-null int64\n",
            "mjd          10000 non-null int64\n",
            "fiberid      10000 non-null int64\n",
            "dtypes: float64(10), int64(7), object(1)\n",
            "memory usage: 1.4+ MB\n"
          ],
          "name": "stdout"
        }
      ]
    },
    {
      "metadata": {
        "colab_type": "text",
        "id": "292jEUb-Z7jE"
      },
      "cell_type": "markdown",
      "source": [
        "# Preprocessing the Data"
      ]
    },
    {
      "metadata": {
        "colab_type": "code",
        "id": "G67jX4QHbW5-",
        "colab": {}
      },
      "cell_type": "code",
      "source": [
        "from sklearn import preprocessing\n",
        "from sklearn.utils import resample "
      ],
      "execution_count": 0,
      "outputs": []
    },
    {
      "metadata": {
        "colab_type": "code",
        "id": "98IjOIXOZvuO",
        "colab": {}
      },
      "cell_type": "code",
      "source": [
        "def Preprocessing_Data(data):\n",
        "  Y = data['class']\n",
        "  X = data.drop(columns=['class','objid','rerun'])\n",
        "  scaler = preprocessing.MinMaxScaler().fit(X)\n",
        "  x_normalized = scaler.transform(X)\n",
        "  newData = pd.DataFrame(columns= X.columns,data=x_normalized)\n",
        "  newData['class'] = Y\n",
        "  # ---------------------------Ballancing the Data set----------------\n",
        "  Categories = pd.Categorical(Y.astype('object')).categories\n",
        "  numOfCategories = Categories.size\n",
        "  CategorySizes = Y.value_counts()\n",
        "  maxSize = Y.value_counts().max()\n",
        "  mSampledDate =[]\n",
        "  for Category in Categories :\n",
        "    if (newData[Y==Category].shape[0] != maxSize):\n",
        "      temp = resample(newData[Y==Category],\n",
        "                      replace=True,     # sample with replacement\n",
        "                      n_samples=(maxSize-data[Y==Category].shape[0]),\n",
        "                      random_state=123) # reproducible results\n",
        "      mSampledDate.append(temp)\n",
        "\n",
        "  BallancedData=newData\n",
        "  for Data in mSampledDate:\n",
        "    BallancedData = pd.concat([BallancedData, Data])\n",
        "  print(\"total shape after up sampling = \", BallancedData.shape)\n",
        "  BallancedData = pd.DataFrame(BallancedData)\n",
        "  BallancedData.index = np.array(range(0,BallancedData.shape[0]))\n",
        "  \n",
        "  return BallancedData , scaler\n",
        "\n",
        "     "
      ],
      "execution_count": 0,
      "outputs": []
    },
    {
      "metadata": {
        "colab_type": "code",
        "id": "9uo5Nj1EaBH4",
        "outputId": "7e8c5529-90e0-4ebb-9281-1e174d4bf9c8",
        "colab": {
          "base_uri": "https://localhost:8080/",
          "height": 34
        }
      },
      "cell_type": "code",
      "source": [
        "DataFinal,scaler = Preprocessing_Data(mData)"
      ],
      "execution_count": 60,
      "outputs": [
        {
          "output_type": "stream",
          "text": [
            "total shape after up sampling =  (14994, 16)\n"
          ],
          "name": "stdout"
        }
      ]
    },
    {
      "metadata": {
        "colab_type": "text",
        "id": "Co62CG1wcnDn"
      },
      "cell_type": "markdown",
      "source": [
        "# Data Helping Functions"
      ]
    },
    {
      "metadata": {
        "colab_type": "code",
        "id": "bO9lsMdycNG8",
        "colab": {}
      },
      "cell_type": "code",
      "source": [
        "def GetFeature_Output(data):\n",
        "    y = data['class']\n",
        "    x = data.drop(columns=['class'])\n",
        "    return x,y\n",
        "  \n",
        "def addOutput(x,y):\n",
        "    x[\"class\"]=y\n",
        "    return x"
      ],
      "execution_count": 0,
      "outputs": []
    },
    {
      "metadata": {
        "colab_type": "text",
        "id": "okn1b0Lzdotc"
      },
      "cell_type": "markdown",
      "source": [
        "# Results Variables "
      ]
    },
    {
      "metadata": {
        "colab_type": "code",
        "id": "DoAVnA_xdlvo",
        "outputId": "4ca8de05-2458-4ccf-beca-ada0fce4c1c8",
        "colab": {
          "base_uri": "https://localhost:8080/",
          "height": 235
        }
      },
      "cell_type": "code",
      "source": [
        "myResultsDF = pd.DataFrame()\n",
        "myResultsDF['Metric'] = ['completeness_score','adjusted_rand_score','fowlkes_mallows_score','silhouette_score','calinski_harabaz_score','CentroidRMSE']\n",
        "myResultsDF"
      ],
      "execution_count": 62,
      "outputs": [
        {
          "output_type": "execute_result",
          "data": {
            "text/html": [
              "<div>\n",
              "<style scoped>\n",
              "    .dataframe tbody tr th:only-of-type {\n",
              "        vertical-align: middle;\n",
              "    }\n",
              "\n",
              "    .dataframe tbody tr th {\n",
              "        vertical-align: top;\n",
              "    }\n",
              "\n",
              "    .dataframe thead th {\n",
              "        text-align: right;\n",
              "    }\n",
              "</style>\n",
              "<table border=\"1\" class=\"dataframe\">\n",
              "  <thead>\n",
              "    <tr style=\"text-align: right;\">\n",
              "      <th></th>\n",
              "      <th>Metric</th>\n",
              "    </tr>\n",
              "  </thead>\n",
              "  <tbody>\n",
              "    <tr>\n",
              "      <th>0</th>\n",
              "      <td>completeness_score</td>\n",
              "    </tr>\n",
              "    <tr>\n",
              "      <th>1</th>\n",
              "      <td>adjusted_rand_score</td>\n",
              "    </tr>\n",
              "    <tr>\n",
              "      <th>2</th>\n",
              "      <td>fowlkes_mallows_score</td>\n",
              "    </tr>\n",
              "    <tr>\n",
              "      <th>3</th>\n",
              "      <td>silhouette_score</td>\n",
              "    </tr>\n",
              "    <tr>\n",
              "      <th>4</th>\n",
              "      <td>calinski_harabaz_score</td>\n",
              "    </tr>\n",
              "    <tr>\n",
              "      <th>5</th>\n",
              "      <td>CentroidRMSE</td>\n",
              "    </tr>\n",
              "  </tbody>\n",
              "</table>\n",
              "</div>"
            ],
            "text/plain": [
              "                   Metric\n",
              "0      completeness_score\n",
              "1     adjusted_rand_score\n",
              "2   fowlkes_mallows_score\n",
              "3        silhouette_score\n",
              "4  calinski_harabaz_score\n",
              "5            CentroidRMSE"
            ]
          },
          "metadata": {
            "tags": []
          },
          "execution_count": 62
        }
      ]
    },
    {
      "metadata": {
        "colab_type": "text",
        "id": "NS6aO2t2iWxw"
      },
      "cell_type": "markdown",
      "source": [
        "# Evaluation Functions"
      ]
    },
    {
      "metadata": {
        "colab_type": "code",
        "id": "fGOSLZu_jKRn",
        "colab": {}
      },
      "cell_type": "code",
      "source": [
        "#Centroid Evaluation Function\n",
        "def CentroidRMSE(Features,Clutered1,Clustered2):\n",
        "    #print(\"C1 IN \",Clutered1.shape)\n",
        "    #print(\"C2 IN \",Clustered2.shape)\n",
        "\n",
        "    X1 = Features.copy()\n",
        "    X1[\"C1\"] = Clutered1\n",
        "    C1Means = X1.groupby(\"C1\").mean().sort_values(X1.columns[0])\n",
        "\n",
        "    X2 = Features.copy()\n",
        "    X2[\"C2\"] = Clustered2\n",
        "    C2Means = X2.groupby(\"C2\").mean().sort_values(X2.columns[0])\n",
        "    #print(\"C1 IN Arranged \",C1Means.shape)\n",
        "    #print(\"C2 IN Arranged\",C2Means.shape)\n",
        "    #if(C1Means.shape[0]>C2Means.shape[0]):\n",
        "    #  diff = C2Means.shape[0] - C1Means.shape[0]\n",
        "    #  C1Means = C1Means[:diff]\n",
        "    #  print(\"C1 IN Changed\",C1Means.shape)\n",
        "    #elif(C1Means.shape[0]<C2Means.shape[0]):\n",
        "    #  diff = C1Means.shape[0] - C2Means.shape[0]\n",
        "    #  C2Means = C2Means[:diff]\n",
        "    #  print(\"C2 IN Changed \",C2Means.shape)\n",
        "    \n",
        "\n",
        "    RMSE = np.sqrt(metrics.mean_squared_error(C1Means,C2Means))\n",
        "    return RMSE"
      ],
      "execution_count": 0,
      "outputs": []
    },
    {
      "metadata": {
        "colab_type": "code",
        "id": "n79R6weHidG8",
        "colab": {}
      },
      "cell_type": "code",
      "source": [
        "def Evalution(X,Y,Y_Pred):\n",
        "  result = []\n",
        "  result.append(metrics.completeness_score(Y, Y_Pred))\n",
        "  result.append(metrics.adjusted_rand_score(Y, Y_Pred))\n",
        "  result.append(metrics.fowlkes_mallows_score(Y,Y_Pred))\n",
        "  result.append(metrics.silhouette_score(X, Y_Pred, metric='euclidean'))\n",
        "  result.append(metrics.calinski_harabaz_score(X, Y_Pred))\n",
        "  result.append(CentroidRMSE(X,Y,Y_Pred))\n",
        "  return result"
      ],
      "execution_count": 0,
      "outputs": []
    },
    {
      "metadata": {
        "colab_type": "text",
        "id": "A4BTXK0rdImP"
      },
      "cell_type": "markdown",
      "source": [
        "# K_Mean Test"
      ]
    },
    {
      "metadata": {
        "colab_type": "code",
        "id": "QVgVz-CadUHj",
        "colab": {}
      },
      "cell_type": "code",
      "source": [
        "from sklearn.cluster import KMeans\n",
        "from sklearn import metrics\n",
        "from sklearn.model_selection import train_test_split,StratifiedKFold"
      ],
      "execution_count": 0,
      "outputs": []
    },
    {
      "metadata": {
        "colab_type": "code",
        "id": "Pyi0KRGUdHcH",
        "colab": {}
      },
      "cell_type": "code",
      "source": [
        "def K_Mean_Test(data,clusters_num):\n",
        "  # full Data\n",
        "  X , Y = GetFeature_Output(data)\n",
        "  Clusterer = KMeans(n_clusters=clusters_num, random_state=0).fit(X)\n",
        "  Y_Result = Clusterer.predict(X)\n",
        "  Test_Result = Evalution(X,Y.values,Y_Result)  \n",
        "  \n",
        "  \n",
        "  \n",
        "  # Train_ Test \n",
        "  x_train, x_test, y_train, y_test = train_test_split(X, Y, test_size=0.4, random_state=0 )\n",
        "  Clusterer = KMeans(n_clusters=clusters_num, random_state=0).fit(x_train)\n",
        "  Y_Result = Clusterer.predict(x_test)\n",
        "  result_train_test = Evalution(x_test, y_test, Y_Result)\n",
        "  \n",
        "\n",
        "  KfordScorer = []\n",
        "  k_fold = StratifiedKFold(n_splits=5)\n",
        "  Clusterer =  KMeans(n_clusters=clusters_num, random_state=0)\n",
        "  for train_indices, test_indices in k_fold.split(X,Y):\n",
        "    Clusterer.fit(X.iloc[train_indices])\n",
        "    Y_Result = Clusterer.predict(X.iloc[test_indices])\n",
        "    x_test = X.iloc[test_indices]\n",
        "    y_test = Y.iloc[test_indices]\n",
        "    resultTemp = Evalution(x_test, y_test.values, Y_Result)\n",
        "    KfordScorer.append(resultTemp)\n",
        "  results_KFolds= np.mean(KfordScorer,axis=0)\n",
        " \n",
        "  return Test_Result,result_train_test,results_KFolds\n",
        "  "
      ],
      "execution_count": 0,
      "outputs": []
    },
    {
      "metadata": {
        "colab_type": "code",
        "id": "Mo4cSpxxdBhU",
        "outputId": "fe09792d-4eff-4f82-e36a-b106812be688",
        "colab": {
          "base_uri": "https://localhost:8080/",
          "height": 235
        }
      },
      "cell_type": "code",
      "source": [
        "r1,r2,r3 = K_Mean_Test(DataFinal,3)\n",
        "\n",
        "\n",
        "myResultsDF['Kmean_Full'] = r1\n",
        "myResultsDF['Kmean_FTrain_Test'] = r2\n",
        "myResultsDF['Kmean_FK-folds'] = r3\n",
        "myResultsDF\n"
      ],
      "execution_count": 67,
      "outputs": [
        {
          "output_type": "execute_result",
          "data": {
            "text/html": [
              "<div>\n",
              "<style scoped>\n",
              "    .dataframe tbody tr th:only-of-type {\n",
              "        vertical-align: middle;\n",
              "    }\n",
              "\n",
              "    .dataframe tbody tr th {\n",
              "        vertical-align: top;\n",
              "    }\n",
              "\n",
              "    .dataframe thead th {\n",
              "        text-align: right;\n",
              "    }\n",
              "</style>\n",
              "<table border=\"1\" class=\"dataframe\">\n",
              "  <thead>\n",
              "    <tr style=\"text-align: right;\">\n",
              "      <th></th>\n",
              "      <th>Metric</th>\n",
              "      <th>Kmean_Full</th>\n",
              "      <th>Kmean_FTrain_Test</th>\n",
              "      <th>Kmean_FK-folds</th>\n",
              "    </tr>\n",
              "  </thead>\n",
              "  <tbody>\n",
              "    <tr>\n",
              "      <th>0</th>\n",
              "      <td>completeness_score</td>\n",
              "      <td>0.175973</td>\n",
              "      <td>0.172463</td>\n",
              "      <td>0.212617</td>\n",
              "    </tr>\n",
              "    <tr>\n",
              "      <th>1</th>\n",
              "      <td>adjusted_rand_score</td>\n",
              "      <td>0.161613</td>\n",
              "      <td>0.160703</td>\n",
              "      <td>0.174697</td>\n",
              "    </tr>\n",
              "    <tr>\n",
              "      <th>2</th>\n",
              "      <td>fowlkes_mallows_score</td>\n",
              "      <td>0.458870</td>\n",
              "      <td>0.456280</td>\n",
              "      <td>0.472913</td>\n",
              "    </tr>\n",
              "    <tr>\n",
              "      <th>3</th>\n",
              "      <td>silhouette_score</td>\n",
              "      <td>0.281399</td>\n",
              "      <td>0.278169</td>\n",
              "      <td>0.283673</td>\n",
              "    </tr>\n",
              "    <tr>\n",
              "      <th>4</th>\n",
              "      <td>calinski_harabaz_score</td>\n",
              "      <td>4696.688258</td>\n",
              "      <td>1878.203443</td>\n",
              "      <td>929.826395</td>\n",
              "    </tr>\n",
              "    <tr>\n",
              "      <th>5</th>\n",
              "      <td>CentroidRMSE</td>\n",
              "      <td>0.131296</td>\n",
              "      <td>0.132472</td>\n",
              "      <td>0.150050</td>\n",
              "    </tr>\n",
              "  </tbody>\n",
              "</table>\n",
              "</div>"
            ],
            "text/plain": [
              "                   Metric   Kmean_Full  Kmean_FTrain_Test  Kmean_FK-folds\n",
              "0      completeness_score     0.175973           0.172463        0.212617\n",
              "1     adjusted_rand_score     0.161613           0.160703        0.174697\n",
              "2   fowlkes_mallows_score     0.458870           0.456280        0.472913\n",
              "3        silhouette_score     0.281399           0.278169        0.283673\n",
              "4  calinski_harabaz_score  4696.688258        1878.203443      929.826395\n",
              "5            CentroidRMSE     0.131296           0.132472        0.150050"
            ]
          },
          "metadata": {
            "tags": []
          },
          "execution_count": 67
        }
      ]
    },
    {
      "metadata": {
        "colab_type": "text",
        "id": "3peEDxU-1iau"
      },
      "cell_type": "markdown",
      "source": [
        "# PCA -> K_Mean Test"
      ]
    },
    {
      "metadata": {
        "colab_type": "code",
        "id": "Wy6Q-3I62BhB",
        "colab": {}
      },
      "cell_type": "code",
      "source": [
        "from sklearn.decomposition import PCA"
      ],
      "execution_count": 0,
      "outputs": []
    },
    {
      "metadata": {
        "colab_type": "code",
        "id": "c_HYpaPbqjph",
        "colab": {}
      },
      "cell_type": "code",
      "source": [
        "def PCA_K_Mean_Test(data,clusters_num,PCA_comp_num):\n",
        "  \n",
        "  # full Data\n",
        "  X_Original,Y_Original = GetFeature_Output(data)\n",
        "  scikit_pca = PCA(n_components=PCA_comp_num)\n",
        "  X = scikit_pca.fit_transform(X_Original)\n",
        "  X = pd.DataFrame(X)\n",
        "  Clusterer = KMeans(n_clusters=clusters_num, random_state=0).fit(X)\n",
        "  Y_Result = Clusterer.predict(X)\n",
        "  Test_Result = Evalution(X_Original,Y_Original.values,Y_Result)  \n",
        "  \n",
        "  \n",
        "  \n",
        "  # Train_ Test \n",
        "  x_train, x_test, y_train, y_test = train_test_split(X, Y_Original, test_size=0.4, random_state=0 )\n",
        "  Clusterer = KMeans(n_clusters=clusters_num, random_state=0).fit(x_train)\n",
        "  Y_Result = Clusterer.predict(x_test)\n",
        "  result_train_test = Evalution(X_Original.iloc[x_test.index], y_test, Y_Result)\n",
        "  \n",
        "\n",
        "  KfordScorer = []\n",
        "  k_fold = StratifiedKFold(n_splits=5)\n",
        "  Clusterer =  KMeans(n_clusters=clusters_num, random_state=0)\n",
        "  for train_indices, test_indices in k_fold.split(X,Y_Original):\n",
        "    Clusterer.fit(X.iloc[train_indices])\n",
        "    Y_Result = Clusterer.predict(X.iloc[test_indices])\n",
        "    x_test = X.iloc[test_indices]\n",
        "    y_test = Y_Original.iloc[test_indices]\n",
        "    resultTemp = Evalution(X_Original.iloc[x_test.index], y_test, Y_Result)\n",
        "    KfordScorer.append(resultTemp)\n",
        "  results_KFolds= np.mean(KfordScorer,axis=0)\n",
        " \n",
        "  return Test_Result,result_train_test,results_KFolds\n",
        "  "
      ],
      "execution_count": 0,
      "outputs": []
    },
    {
      "metadata": {
        "colab_type": "code",
        "id": "qXFR0M8c3HNW",
        "outputId": "17e13b86-2235-4cec-f2c2-2ed9e0cc07c8",
        "colab": {
          "base_uri": "https://localhost:8080/",
          "height": 235
        }
      },
      "cell_type": "code",
      "source": [
        "r1,r2,r3 = PCA_K_Mean_Test(DataFinal,3,5)\n",
        "\n",
        "\n",
        "myResultsDF['PCA_Full'] = r1\n",
        "myResultsDF['PCA_Train_Test'] = r2\n",
        "myResultsDF['PCA_K-folds'] = r3\n",
        "myResultsDF"
      ],
      "execution_count": 70,
      "outputs": [
        {
          "output_type": "execute_result",
          "data": {
            "text/html": [
              "<div>\n",
              "<style scoped>\n",
              "    .dataframe tbody tr th:only-of-type {\n",
              "        vertical-align: middle;\n",
              "    }\n",
              "\n",
              "    .dataframe tbody tr th {\n",
              "        vertical-align: top;\n",
              "    }\n",
              "\n",
              "    .dataframe thead th {\n",
              "        text-align: right;\n",
              "    }\n",
              "</style>\n",
              "<table border=\"1\" class=\"dataframe\">\n",
              "  <thead>\n",
              "    <tr style=\"text-align: right;\">\n",
              "      <th></th>\n",
              "      <th>Metric</th>\n",
              "      <th>Kmean_Full</th>\n",
              "      <th>Kmean_FTrain_Test</th>\n",
              "      <th>Kmean_FK-folds</th>\n",
              "      <th>PCA_Full</th>\n",
              "      <th>PCA_Train_Test</th>\n",
              "      <th>PCA_K-folds</th>\n",
              "    </tr>\n",
              "  </thead>\n",
              "  <tbody>\n",
              "    <tr>\n",
              "      <th>0</th>\n",
              "      <td>completeness_score</td>\n",
              "      <td>0.175973</td>\n",
              "      <td>0.172463</td>\n",
              "      <td>0.212617</td>\n",
              "      <td>0.175541</td>\n",
              "      <td>0.171692</td>\n",
              "      <td>0.192378</td>\n",
              "    </tr>\n",
              "    <tr>\n",
              "      <th>1</th>\n",
              "      <td>adjusted_rand_score</td>\n",
              "      <td>0.161613</td>\n",
              "      <td>0.160703</td>\n",
              "      <td>0.174697</td>\n",
              "      <td>0.161022</td>\n",
              "      <td>0.159722</td>\n",
              "      <td>0.150766</td>\n",
              "    </tr>\n",
              "    <tr>\n",
              "      <th>2</th>\n",
              "      <td>fowlkes_mallows_score</td>\n",
              "      <td>0.458870</td>\n",
              "      <td>0.456280</td>\n",
              "      <td>0.472913</td>\n",
              "      <td>0.458567</td>\n",
              "      <td>0.455785</td>\n",
              "      <td>0.463359</td>\n",
              "    </tr>\n",
              "    <tr>\n",
              "      <th>3</th>\n",
              "      <td>silhouette_score</td>\n",
              "      <td>0.281399</td>\n",
              "      <td>0.278169</td>\n",
              "      <td>0.283673</td>\n",
              "      <td>0.281388</td>\n",
              "      <td>0.278169</td>\n",
              "      <td>0.283157</td>\n",
              "    </tr>\n",
              "    <tr>\n",
              "      <th>4</th>\n",
              "      <td>calinski_harabaz_score</td>\n",
              "      <td>4696.688258</td>\n",
              "      <td>1878.203443</td>\n",
              "      <td>929.826395</td>\n",
              "      <td>4696.641082</td>\n",
              "      <td>1878.664618</td>\n",
              "      <td>921.184918</td>\n",
              "    </tr>\n",
              "    <tr>\n",
              "      <th>5</th>\n",
              "      <td>CentroidRMSE</td>\n",
              "      <td>0.131296</td>\n",
              "      <td>0.132472</td>\n",
              "      <td>0.150050</td>\n",
              "      <td>0.131331</td>\n",
              "      <td>0.132512</td>\n",
              "      <td>0.153950</td>\n",
              "    </tr>\n",
              "  </tbody>\n",
              "</table>\n",
              "</div>"
            ],
            "text/plain": [
              "                   Metric   Kmean_Full  Kmean_FTrain_Test  Kmean_FK-folds  \\\n",
              "0      completeness_score     0.175973           0.172463        0.212617   \n",
              "1     adjusted_rand_score     0.161613           0.160703        0.174697   \n",
              "2   fowlkes_mallows_score     0.458870           0.456280        0.472913   \n",
              "3        silhouette_score     0.281399           0.278169        0.283673   \n",
              "4  calinski_harabaz_score  4696.688258        1878.203443      929.826395   \n",
              "5            CentroidRMSE     0.131296           0.132472        0.150050   \n",
              "\n",
              "      PCA_Full  PCA_Train_Test  PCA_K-folds  \n",
              "0     0.175541        0.171692     0.192378  \n",
              "1     0.161022        0.159722     0.150766  \n",
              "2     0.458567        0.455785     0.463359  \n",
              "3     0.281388        0.278169     0.283157  \n",
              "4  4696.641082     1878.664618   921.184918  \n",
              "5     0.131331        0.132512     0.153950  "
            ]
          },
          "metadata": {
            "tags": []
          },
          "execution_count": 70
        }
      ]
    },
    {
      "metadata": {
        "colab_type": "text",
        "id": "VXoCq3Nd4NPq"
      },
      "cell_type": "markdown",
      "source": [
        "# AutoEncoder - > K_mean Test"
      ]
    },
    {
      "metadata": {
        "colab_type": "code",
        "id": "h2bQ2Ehu7QSJ",
        "colab": {}
      },
      "cell_type": "code",
      "source": [
        "from keras.models import Model\n",
        "from keras.layers import Input, Dense, Dropout ,BatchNormalization\n"
      ],
      "execution_count": 0,
      "outputs": []
    },
    {
      "metadata": {
        "colab_type": "code",
        "id": "x1zylWAU3JVu",
        "colab": {}
      },
      "cell_type": "code",
      "source": [
        "def create_simple_AE(X,Y, enc_size, activation_H, activation_out):\n",
        "  \n",
        "\n",
        "  in_layer = Input(shape=(X.shape[1],))\n",
        "  enc_layer = Dense(enc_size, activation=activation_H)(in_layer)\n",
        "  dec_layer = Dense(X.shape[1], activation=activation_out)(enc_layer)\n",
        "\n",
        "  AE = Model(in_layer, dec_layer)\n",
        "  Enc = Model(in_layer, enc_layer)\n",
        "\n",
        "  AE.compile(optimizer='adam', loss='mean_squared_error')\n",
        "\n",
        "  x_train, x_test, y_train, y_test = train_test_split(X, Y, test_size=0.2, random_state=0 )\n",
        "  AE.fit(x_train, x_train,\n",
        "         epochs=50,\n",
        "         batch_size=50,\n",
        "         shuffle=True,\n",
        "         verbose=0,\n",
        "         validation_data=(x_test, x_test))\n",
        "  \n",
        "  \n",
        "  return AE, Enc"
      ],
      "execution_count": 0,
      "outputs": []
    },
    {
      "metadata": {
        "colab_type": "code",
        "id": "6THqkfWtOeIV",
        "colab": {}
      },
      "cell_type": "code",
      "source": [
        "def AE_Kmean_Test(data,encSize,activation,clusters_num):\n",
        "  \n",
        "  # full Data\n",
        "  X_Original,Y_Original = GetFeature_Output(data)\n",
        "  AE,Enc = create_simple_AE(X_Original,Y_Original,encSize,activation,activation)\n",
        "  \n",
        "  X = pd.DataFrame(Enc.predict(X_Original))\n",
        "  Clusterer = KMeans(n_clusters=clusters_num, random_state=0).fit(X)\n",
        "  Y_Result = Clusterer.predict(X)\n",
        "  Test_Result = Evalution(X_Original,Y_Original.values,Y_Result)  \n",
        "  \n",
        "  \n",
        "   \n",
        "  \n",
        "  # Train_ Test \n",
        "  x_train, x_test, y_train, y_test = train_test_split(X_Original, Y_Original, test_size=0.4, random_state=0)\n",
        "  \n",
        "  AE,Enc = create_simple_AE(x_train,y_train,encSize,activation,activation)  \n",
        "  X_train_encoded = pd.DataFrame(Enc.predict(x_train))\n",
        "  X_test_encoded = pd.DataFrame(Enc.predict(x_test))\n",
        "  \n",
        "  Clusterer = KMeans(n_clusters=clusters_num, random_state=0).fit(X_train_encoded)\n",
        "  Y_Result = Clusterer.predict(X_test_encoded)\n",
        "  result_train_test = Evalution(X_Original.iloc[x_test.index], y_test, Y_Result)\n",
        "  \n",
        "  \n",
        "  # K-Folds\n",
        "  KfordScorer = []\n",
        "  k_fold = StratifiedKFold(n_splits=5)\n",
        "  for train_indices, test_indices in k_fold.split(X_Original,Y_Original):\n",
        "    AE,Enc = create_simple_AE(X_Original.iloc[train_indices],Y_Original.iloc[train_indices],encSize,activation,activation)  \n",
        "    X_train_encoded = pd.DataFrame(Enc.predict(X_Original.iloc[train_indices]))\n",
        "    X_test_encoded = pd.DataFrame(Enc.predict(X_Original.iloc[test_indices]))\n",
        "    \n",
        "    Clusterer = KMeans(n_clusters=clusters_num, random_state=0).fit(X_train_encoded)\n",
        "    Y_Result = Clusterer.predict(X_test_encoded)\n",
        "    y_test = Y_Original.iloc[test_indices]\n",
        "    resultTemp = Evalution(X_Original.iloc[test_indices], y_test, Y_Result)\n",
        "    KfordScorer.append(resultTemp)\n",
        "  results_KFolds= np.mean(KfordScorer,axis=0)\n",
        " \n",
        "  return Test_Result,result_train_test,results_KFolds\n",
        "\n",
        "  "
      ],
      "execution_count": 0,
      "outputs": []
    },
    {
      "metadata": {
        "colab_type": "code",
        "id": "n-GN8HNLREzS",
        "outputId": "81148e3b-b473-4d6b-e09e-96585313b15d",
        "colab": {
          "base_uri": "https://localhost:8080/",
          "height": 272
        }
      },
      "cell_type": "code",
      "source": [
        "r1,r2,r3 = AE_Kmean_Test(DataFinal,10,'sigmoid',3)\n",
        "\n",
        "\n",
        "myResultsDF['AE_KMean_Full'] = r1\n",
        "myResultsDF['AE_KMean__Train_Test'] = r2\n",
        "myResultsDF['AE_KMean__K-folds'] = r3\n",
        "myResultsDF"
      ],
      "execution_count": 74,
      "outputs": [
        {
          "output_type": "execute_result",
          "data": {
            "text/html": [
              "<div>\n",
              "<style scoped>\n",
              "    .dataframe tbody tr th:only-of-type {\n",
              "        vertical-align: middle;\n",
              "    }\n",
              "\n",
              "    .dataframe tbody tr th {\n",
              "        vertical-align: top;\n",
              "    }\n",
              "\n",
              "    .dataframe thead th {\n",
              "        text-align: right;\n",
              "    }\n",
              "</style>\n",
              "<table border=\"1\" class=\"dataframe\">\n",
              "  <thead>\n",
              "    <tr style=\"text-align: right;\">\n",
              "      <th></th>\n",
              "      <th>Metric</th>\n",
              "      <th>Kmean_Full</th>\n",
              "      <th>Kmean_FTrain_Test</th>\n",
              "      <th>Kmean_FK-folds</th>\n",
              "      <th>PCA_Full</th>\n",
              "      <th>PCA_Train_Test</th>\n",
              "      <th>PCA_K-folds</th>\n",
              "      <th>AE_KMean_Full</th>\n",
              "      <th>AE_KMean__Train_Test</th>\n",
              "      <th>AE_KMean__K-folds</th>\n",
              "    </tr>\n",
              "  </thead>\n",
              "  <tbody>\n",
              "    <tr>\n",
              "      <th>0</th>\n",
              "      <td>completeness_score</td>\n",
              "      <td>0.175973</td>\n",
              "      <td>0.172463</td>\n",
              "      <td>0.212617</td>\n",
              "      <td>0.175541</td>\n",
              "      <td>0.171692</td>\n",
              "      <td>0.192378</td>\n",
              "      <td>0.161911</td>\n",
              "      <td>0.177407</td>\n",
              "      <td>0.222250</td>\n",
              "    </tr>\n",
              "    <tr>\n",
              "      <th>1</th>\n",
              "      <td>adjusted_rand_score</td>\n",
              "      <td>0.161613</td>\n",
              "      <td>0.160703</td>\n",
              "      <td>0.174697</td>\n",
              "      <td>0.161022</td>\n",
              "      <td>0.159722</td>\n",
              "      <td>0.150766</td>\n",
              "      <td>0.146027</td>\n",
              "      <td>0.167146</td>\n",
              "      <td>0.181619</td>\n",
              "    </tr>\n",
              "    <tr>\n",
              "      <th>2</th>\n",
              "      <td>fowlkes_mallows_score</td>\n",
              "      <td>0.458870</td>\n",
              "      <td>0.456280</td>\n",
              "      <td>0.472913</td>\n",
              "      <td>0.458567</td>\n",
              "      <td>0.455785</td>\n",
              "      <td>0.463359</td>\n",
              "      <td>0.434997</td>\n",
              "      <td>0.455779</td>\n",
              "      <td>0.477336</td>\n",
              "    </tr>\n",
              "    <tr>\n",
              "      <th>3</th>\n",
              "      <td>silhouette_score</td>\n",
              "      <td>0.281399</td>\n",
              "      <td>0.278169</td>\n",
              "      <td>0.283673</td>\n",
              "      <td>0.281388</td>\n",
              "      <td>0.278169</td>\n",
              "      <td>0.283157</td>\n",
              "      <td>0.241893</td>\n",
              "      <td>0.266346</td>\n",
              "      <td>0.280322</td>\n",
              "    </tr>\n",
              "    <tr>\n",
              "      <th>4</th>\n",
              "      <td>calinski_harabaz_score</td>\n",
              "      <td>4696.688258</td>\n",
              "      <td>1878.203443</td>\n",
              "      <td>929.826395</td>\n",
              "      <td>4696.641082</td>\n",
              "      <td>1878.664618</td>\n",
              "      <td>921.184918</td>\n",
              "      <td>4218.569457</td>\n",
              "      <td>1791.564183</td>\n",
              "      <td>922.274742</td>\n",
              "    </tr>\n",
              "    <tr>\n",
              "      <th>5</th>\n",
              "      <td>CentroidRMSE</td>\n",
              "      <td>0.131296</td>\n",
              "      <td>0.132472</td>\n",
              "      <td>0.150050</td>\n",
              "      <td>0.131331</td>\n",
              "      <td>0.132512</td>\n",
              "      <td>0.153950</td>\n",
              "      <td>0.160104</td>\n",
              "      <td>0.166981</td>\n",
              "      <td>0.138101</td>\n",
              "    </tr>\n",
              "  </tbody>\n",
              "</table>\n",
              "</div>"
            ],
            "text/plain": [
              "                   Metric   Kmean_Full  Kmean_FTrain_Test  Kmean_FK-folds  \\\n",
              "0      completeness_score     0.175973           0.172463        0.212617   \n",
              "1     adjusted_rand_score     0.161613           0.160703        0.174697   \n",
              "2   fowlkes_mallows_score     0.458870           0.456280        0.472913   \n",
              "3        silhouette_score     0.281399           0.278169        0.283673   \n",
              "4  calinski_harabaz_score  4696.688258        1878.203443      929.826395   \n",
              "5            CentroidRMSE     0.131296           0.132472        0.150050   \n",
              "\n",
              "      PCA_Full  PCA_Train_Test  PCA_K-folds  AE_KMean_Full  \\\n",
              "0     0.175541        0.171692     0.192378       0.161911   \n",
              "1     0.161022        0.159722     0.150766       0.146027   \n",
              "2     0.458567        0.455785     0.463359       0.434997   \n",
              "3     0.281388        0.278169     0.283157       0.241893   \n",
              "4  4696.641082     1878.664618   921.184918    4218.569457   \n",
              "5     0.131331        0.132512     0.153950       0.160104   \n",
              "\n",
              "   AE_KMean__Train_Test  AE_KMean__K-folds  \n",
              "0              0.177407           0.222250  \n",
              "1              0.167146           0.181619  \n",
              "2              0.455779           0.477336  \n",
              "3              0.266346           0.280322  \n",
              "4           1791.564183         922.274742  \n",
              "5              0.166981           0.138101  "
            ]
          },
          "metadata": {
            "tags": []
          },
          "execution_count": 74
        }
      ]
    },
    {
      "metadata": {
        "colab_type": "text",
        "id": "22b0bZYA5yTG"
      },
      "cell_type": "markdown",
      "source": [
        "# AutoEncoder with SoftMax layer"
      ]
    },
    {
      "metadata": {
        "colab_type": "code",
        "id": "vkPIFcvm7R9o",
        "colab": {}
      },
      "cell_type": "code",
      "source": [
        "from keras.activations import softmax"
      ],
      "execution_count": 0,
      "outputs": []
    },
    {
      "metadata": {
        "colab_type": "code",
        "id": "dsWS5fbr4aUc",
        "colab": {}
      },
      "cell_type": "code",
      "source": [
        "def create_softmax_AE(X,Y, enc_size, activation_H, activation_out):\n",
        "  \n",
        "\n",
        "  in_layer = Input(shape=(X.shape[1],))\n",
        "  enc_layer = Dense(enc_size, activation=activation_H)(in_layer)\n",
        "  enc_layer = BatchNormalization()(enc_layer)\n",
        "  enc_layer= Dropout(0.7)(enc_layer)\n",
        "  enc_layer = Dense(Y.value_counts().size, activation='softmax')(enc_layer)\n",
        "  enc_layer = BatchNormalization()(enc_layer)\n",
        "  enc_layer = Dropout(0.7)(enc_layer)\n",
        "  dec_layer = Dense(enc_size, activation=activation_out)(enc_layer)\n",
        "  dec_layer = BatchNormalization()(dec_layer)\n",
        "  dec_layer = Dropout(0.7)(dec_layer)\n",
        "  dec_layer = Dense(X.shape[1], activation=activation_out)(dec_layer)\n",
        "\n",
        "  AE = Model(in_layer, dec_layer)\n",
        "  Enc = Model(in_layer, enc_layer)\n",
        "\n",
        "  AE.compile(optimizer='adam', loss='mean_squared_error')\n",
        "\n",
        "  x_train, x_test, y_train, y_test = train_test_split(X, Y, test_size=0.2, random_state=0 )\n",
        "  AE.fit(x_train, x_train,\n",
        "         epochs=50,\n",
        "         batch_size=50,\n",
        "         shuffle=True,\n",
        "         verbose=0,\n",
        "         validation_data=(x_test, x_test))\n",
        "  \n",
        "  \n",
        "  return AE, Enc"
      ],
      "execution_count": 0,
      "outputs": []
    },
    {
      "metadata": {
        "colab_type": "code",
        "id": "Y37ICt4O4VXB",
        "colab": {}
      },
      "cell_type": "code",
      "source": [
        "def AE_SoftMax_Test(data,encSize,activation):\n",
        "  \n",
        "  # full Data\n",
        "  X_Original,Y_Original = GetFeature_Output(data)\n",
        "  AE,Enc = create_softmax_AE(X_Original,Y_Original,encSize,activation,activation)\n",
        "  \n",
        "  EncOutput = pd.DataFrame(Enc.predict(X_Original))\n",
        "  Y_Result = EncOutput.idxmax(axis=1)\n",
        "  Test_Result = Evalution(X_Original,Y_Original.values,Y_Result) \n",
        "  \n",
        "  \n",
        "   \n",
        "  \n",
        "  # Train_ Test \n",
        "  x_train, x_test, y_train, y_test = train_test_split(X_Original, Y_Original, test_size=0.4, random_state=12)\n",
        "  AE,Enc = create_softmax_AE(x_train,y_train,encSize,activation,activation)  \n",
        "  EncOutput = pd.DataFrame(Enc.predict(x_test))\n",
        "  Y_Result = EncOutput.idxmax(axis=1)\n",
        "  result_train_test = Evalution(X_Original.iloc[x_test.index], y_test, Y_Result.values)\n",
        "  \n",
        "  \n",
        "  # K-Folds\n",
        "  KfordScorer = []\n",
        "  k_fold = StratifiedKFold(n_splits=5)\n",
        "  for train_indices, test_indices in k_fold.split(X_Original,Y_Original):\n",
        "    AE,Enc = create_softmax_AE(X_Original.iloc[train_indices],Y_Original.iloc[train_indices],encSize,activation,activation)  \n",
        "    EncOutput = pd.DataFrame(Enc.predict(X_Original.iloc[test_indices]))\n",
        "    Y_Result = EncOutput.idxmax(axis=1)\n",
        "    #print(\"C2\" ,Y_Result.value_counts())\n",
        "    y_test = Y_Original.iloc[test_indices]\n",
        "    #print(\"C1\",y_test.value_counts())\n",
        "    resultTemp = Evalution(X_Original.iloc[test_indices], y_test, Y_Result.values)\n",
        "    KfordScorer.append(resultTemp)\n",
        "  results_KFolds= np.mean(KfordScorer,axis=0)\n",
        " \n",
        "  return Test_Result,result_train_test,results_KFolds\n",
        "\n",
        "  "
      ],
      "execution_count": 0,
      "outputs": []
    },
    {
      "metadata": {
        "colab_type": "code",
        "id": "qT7ynB3M6yoz",
        "outputId": "390a8355-1bdc-4c77-de1f-9fda380526a5",
        "colab": {
          "base_uri": "https://localhost:8080/",
          "height": 272
        }
      },
      "cell_type": "code",
      "source": [
        "r1,r2,r3 = AE_SoftMax_Test(DataFinal,10,'sigmoid')\n",
        "\n",
        "\n",
        "myResultsDF['AE_Softmax_Full'] = r1\n",
        "myResultsDF['AE_Softmax__Train_Test'] = r2\n",
        "myResultsDF['AE_Softmax__K-folds'] = r3\n",
        "myResultsDF"
      ],
      "execution_count": 84,
      "outputs": [
        {
          "output_type": "execute_result",
          "data": {
            "text/html": [
              "<div>\n",
              "<style scoped>\n",
              "    .dataframe tbody tr th:only-of-type {\n",
              "        vertical-align: middle;\n",
              "    }\n",
              "\n",
              "    .dataframe tbody tr th {\n",
              "        vertical-align: top;\n",
              "    }\n",
              "\n",
              "    .dataframe thead th {\n",
              "        text-align: right;\n",
              "    }\n",
              "</style>\n",
              "<table border=\"1\" class=\"dataframe\">\n",
              "  <thead>\n",
              "    <tr style=\"text-align: right;\">\n",
              "      <th></th>\n",
              "      <th>Metric</th>\n",
              "      <th>Kmean_Full</th>\n",
              "      <th>Kmean_FTrain_Test</th>\n",
              "      <th>Kmean_FK-folds</th>\n",
              "      <th>PCA_Full</th>\n",
              "      <th>PCA_Train_Test</th>\n",
              "      <th>PCA_K-folds</th>\n",
              "      <th>AE_KMean_Full</th>\n",
              "      <th>AE_KMean__Train_Test</th>\n",
              "      <th>AE_KMean__K-folds</th>\n",
              "      <th>AE_Softmax_Full</th>\n",
              "      <th>AE_Softmax__Train_Test</th>\n",
              "      <th>AE_Softmax__K-folds</th>\n",
              "    </tr>\n",
              "  </thead>\n",
              "  <tbody>\n",
              "    <tr>\n",
              "      <th>0</th>\n",
              "      <td>completeness_score</td>\n",
              "      <td>0.175973</td>\n",
              "      <td>0.172463</td>\n",
              "      <td>0.212617</td>\n",
              "      <td>0.175541</td>\n",
              "      <td>0.171692</td>\n",
              "      <td>0.192378</td>\n",
              "      <td>0.161911</td>\n",
              "      <td>0.177407</td>\n",
              "      <td>0.222250</td>\n",
              "      <td>0.005941</td>\n",
              "      <td>0.142430</td>\n",
              "      <td>0.096471</td>\n",
              "    </tr>\n",
              "    <tr>\n",
              "      <th>1</th>\n",
              "      <td>adjusted_rand_score</td>\n",
              "      <td>0.161613</td>\n",
              "      <td>0.160703</td>\n",
              "      <td>0.174697</td>\n",
              "      <td>0.161022</td>\n",
              "      <td>0.159722</td>\n",
              "      <td>0.150766</td>\n",
              "      <td>0.146027</td>\n",
              "      <td>0.167146</td>\n",
              "      <td>0.181619</td>\n",
              "      <td>0.004047</td>\n",
              "      <td>0.114144</td>\n",
              "      <td>0.067699</td>\n",
              "    </tr>\n",
              "    <tr>\n",
              "      <th>2</th>\n",
              "      <td>fowlkes_mallows_score</td>\n",
              "      <td>0.458870</td>\n",
              "      <td>0.456280</td>\n",
              "      <td>0.472913</td>\n",
              "      <td>0.458567</td>\n",
              "      <td>0.455785</td>\n",
              "      <td>0.463359</td>\n",
              "      <td>0.434997</td>\n",
              "      <td>0.455779</td>\n",
              "      <td>0.477336</td>\n",
              "      <td>0.434392</td>\n",
              "      <td>0.418814</td>\n",
              "      <td>0.435942</td>\n",
              "    </tr>\n",
              "    <tr>\n",
              "      <th>3</th>\n",
              "      <td>silhouette_score</td>\n",
              "      <td>0.281399</td>\n",
              "      <td>0.278169</td>\n",
              "      <td>0.283673</td>\n",
              "      <td>0.281388</td>\n",
              "      <td>0.278169</td>\n",
              "      <td>0.283157</td>\n",
              "      <td>0.241893</td>\n",
              "      <td>0.266346</td>\n",
              "      <td>0.280322</td>\n",
              "      <td>0.180069</td>\n",
              "      <td>0.217675</td>\n",
              "      <td>0.168719</td>\n",
              "    </tr>\n",
              "    <tr>\n",
              "      <th>4</th>\n",
              "      <td>calinski_harabaz_score</td>\n",
              "      <td>4696.688258</td>\n",
              "      <td>1878.203443</td>\n",
              "      <td>929.826395</td>\n",
              "      <td>4696.641082</td>\n",
              "      <td>1878.664618</td>\n",
              "      <td>921.184918</td>\n",
              "      <td>4218.569457</td>\n",
              "      <td>1791.564183</td>\n",
              "      <td>922.274742</td>\n",
              "      <td>2313.573338</td>\n",
              "      <td>1574.048263</td>\n",
              "      <td>490.319234</td>\n",
              "    </tr>\n",
              "    <tr>\n",
              "      <th>5</th>\n",
              "      <td>CentroidRMSE</td>\n",
              "      <td>0.131296</td>\n",
              "      <td>0.132472</td>\n",
              "      <td>0.150050</td>\n",
              "      <td>0.131331</td>\n",
              "      <td>0.132512</td>\n",
              "      <td>0.153950</td>\n",
              "      <td>0.160104</td>\n",
              "      <td>0.166981</td>\n",
              "      <td>0.138101</td>\n",
              "      <td>0.153995</td>\n",
              "      <td>0.160421</td>\n",
              "      <td>0.152297</td>\n",
              "    </tr>\n",
              "  </tbody>\n",
              "</table>\n",
              "</div>"
            ],
            "text/plain": [
              "                   Metric   Kmean_Full  Kmean_FTrain_Test  Kmean_FK-folds  \\\n",
              "0      completeness_score     0.175973           0.172463        0.212617   \n",
              "1     adjusted_rand_score     0.161613           0.160703        0.174697   \n",
              "2   fowlkes_mallows_score     0.458870           0.456280        0.472913   \n",
              "3        silhouette_score     0.281399           0.278169        0.283673   \n",
              "4  calinski_harabaz_score  4696.688258        1878.203443      929.826395   \n",
              "5            CentroidRMSE     0.131296           0.132472        0.150050   \n",
              "\n",
              "      PCA_Full  PCA_Train_Test  PCA_K-folds  AE_KMean_Full  \\\n",
              "0     0.175541        0.171692     0.192378       0.161911   \n",
              "1     0.161022        0.159722     0.150766       0.146027   \n",
              "2     0.458567        0.455785     0.463359       0.434997   \n",
              "3     0.281388        0.278169     0.283157       0.241893   \n",
              "4  4696.641082     1878.664618   921.184918    4218.569457   \n",
              "5     0.131331        0.132512     0.153950       0.160104   \n",
              "\n",
              "   AE_KMean__Train_Test  AE_KMean__K-folds  AE_Softmax_Full  \\\n",
              "0              0.177407           0.222250         0.005941   \n",
              "1              0.167146           0.181619         0.004047   \n",
              "2              0.455779           0.477336         0.434392   \n",
              "3              0.266346           0.280322         0.180069   \n",
              "4           1791.564183         922.274742      2313.573338   \n",
              "5              0.166981           0.138101         0.153995   \n",
              "\n",
              "   AE_Softmax__Train_Test  AE_Softmax__K-folds  \n",
              "0                0.142430             0.096471  \n",
              "1                0.114144             0.067699  \n",
              "2                0.418814             0.435942  \n",
              "3                0.217675             0.168719  \n",
              "4             1574.048263           490.319234  \n",
              "5                0.160421             0.152297  "
            ]
          },
          "metadata": {
            "tags": []
          },
          "execution_count": 84
        }
      ]
    },
    {
      "metadata": {
        "colab_type": "text",
        "id": "rxE6byvWTU_x"
      },
      "cell_type": "markdown",
      "source": [
        "# Saving Results "
      ]
    },
    {
      "metadata": {
        "colab_type": "code",
        "id": "-nCowd5G9V5n",
        "colab": {}
      },
      "cell_type": "code",
      "source": [
        "myResultsDF.to_csv(\"Sky_Serverevaluation_results_updampling.csv\")"
      ],
      "execution_count": 0,
      "outputs": []
    },
    {
      "metadata": {
        "colab_type": "code",
        "id": "cwzaukXZ4WEb",
        "colab": {}
      },
      "cell_type": "code",
      "source": [
        ""
      ],
      "execution_count": 0,
      "outputs": []
    }
  ]
}